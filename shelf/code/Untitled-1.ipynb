{
 "cells": [
  {
   "cell_type": "markdown",
   "metadata": {},
   "source": [
    "Finalized"
   ]
  },
  {
   "cell_type": "code",
   "execution_count": 1,
   "metadata": {},
   "outputs": [
    {
     "name": "stdout",
     "output_type": "stream",
     "text": [
      "7da5eb19189e875d\n",
      "7da5eb19189e875d7eb4d5d624fc9308\n",
      "32\n",
      "16\n"
     ]
    }
   ],
   "source": [
    "import secrets\n",
    "\n",
    "# Generate a 128-bit key\n",
    "key_size_bits = 128\n",
    "key_size_bytes = key_size_bits // 8\n",
    "key_hex = secrets.token_hex(key_size_bytes)\n",
    "\n",
    "print(key_hex[:16])\n",
    "print(key_hex)\n",
    "print(len(key_hex))\n",
    "print(len(key_hex[:16]))"
   ]
  },
  {
   "cell_type": "code",
   "execution_count": null,
   "metadata": {},
   "outputs": [],
   "source": []
  },
  {
   "cell_type": "code",
   "execution_count": null,
   "metadata": {},
   "outputs": [],
   "source": []
  },
  {
   "cell_type": "code",
   "execution_count": null,
   "metadata": {},
   "outputs": [],
   "source": []
  },
  {
   "cell_type": "code",
   "execution_count": null,
   "metadata": {},
   "outputs": [],
   "source": [
    "import random\n",
    "\n",
    "# Generate a random 16-bit key\n",
    "key = random.randint(0, 2**16 - 1)\n",
    "\n",
    "print(hex(key))  # Display the key in hexadecimal format\n"
   ]
  },
  {
   "cell_type": "code",
   "execution_count": null,
   "metadata": {},
   "outputs": [],
   "source": [
    "import secrets\n",
    "\n",
    "# Generate a 128-bit key\n",
    "key_size_bits = 128\n",
    "key_size_bytes = key_size_bits // 8\n",
    "key_hex = secrets.token_hex(key_size_bytes)\n",
    "\n",
    "print(key_hex[:16])\n",
    "print(len(key_hex))\n",
    "print(len(key_hex[:16]))"
   ]
  },
  {
   "cell_type": "code",
   "execution_count": null,
   "metadata": {},
   "outputs": [],
   "source": [
    "key_size_bytes"
   ]
  },
  {
   "cell_type": "code",
   "execution_count": null,
   "metadata": {},
   "outputs": [],
   "source": [
    "import secrets\n",
    "import base64\n",
    "\n",
    "# Generate a 128-bit key\n",
    "key_size_bits = 128\n",
    "key_size_bytes = key_size_bits // 8\n",
    "key_bytes = secrets.token_bytes(key_size_bytes)\n",
    "key_base64 = base64.b64encode(key_bytes).decode('utf-8')\n",
    "\n",
    "print(key_base64)\n",
    "print(len(key_base64))\n"
   ]
  },
  {
   "cell_type": "code",
   "execution_count": null,
   "metadata": {},
   "outputs": [],
   "source": [
    "import secrets\n",
    "\n",
    "# Generate a 128-bit AES key\n",
    "key_size_bits = 128\n",
    "key_size_bytes = key_size_bits // 8\n",
    "aes_key = secrets.token_bytes(key_size_bytes)\n",
    "\n",
    "print(aes_key)"
   ]
  },
  {
   "cell_type": "code",
   "execution_count": null,
   "metadata": {},
   "outputs": [],
   "source": [
    "import secrets\n",
    "\n",
    "# Generate a 128-bit AES key\n",
    "key_size_bits = 128\n",
    "key_size_bytes = key_size_bits // 8\n",
    "aes_key = secrets.token_hex(key_size_bytes)\n",
    "\n",
    "print(aes_key)\n",
    "print(len(aes_key))"
   ]
  },
  {
   "cell_type": "code",
   "execution_count": null,
   "metadata": {},
   "outputs": [],
   "source": [
    "aes_key = secrets.token_bytes(key_size_bytes)\n",
    "\n",
    "print(aes_key)"
   ]
  },
  {
   "cell_type": "code",
   "execution_count": null,
   "metadata": {},
   "outputs": [],
   "source": [
    "len(aes_key)"
   ]
  },
  {
   "cell_type": "code",
   "execution_count": null,
   "metadata": {},
   "outputs": [],
   "source": [
    "import secrets\n",
    "\n",
    "# Generate a random 128-byte key\n",
    "key_size_bytes = 128\n",
    "key_hex = secrets.token_hex(key_size_bytes)\n",
    "\n",
    "print(key_hex)"
   ]
  },
  {
   "cell_type": "code",
   "execution_count": null,
   "metadata": {},
   "outputs": [],
   "source": []
  }
 ],
 "metadata": {
  "kernelspec": {
   "display_name": "Python 3",
   "language": "python",
   "name": "python3"
  },
  "language_info": {
   "codemirror_mode": {
    "name": "ipython",
    "version": 3
   },
   "file_extension": ".py",
   "mimetype": "text/x-python",
   "name": "python",
   "nbconvert_exporter": "python",
   "pygments_lexer": "ipython3",
   "version": "3.11.5"
  },
  "polyglot_notebook": {
   "kernelInfo": {
    "defaultKernelName": "csharp",
    "items": [
     {
      "aliases": [],
      "name": "csharp"
     }
    ]
   }
  }
 },
 "nbformat": 4,
 "nbformat_minor": 2
}
