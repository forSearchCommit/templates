{
 "cells": [
  {
   "cell_type": "code",
   "execution_count": null,
   "metadata": {
    "dotnet_interactive": {
     "language": "csharp"
    },
    "polyglot_notebook": {
     "kernelName": "csharp"
    }
   },
   "outputs": [],
   "source": [
    "using Newtonsoft.Json;\n",
    "\n",
    "// Your JSON string\n",
    "string jsonString = \"{ 'company_id': '1470', 'bank_id': '1', 'amount': '100', 'company_order_num': '1', 'company_user': '1', 'estimated_payment_bank': '1', 'deposit_mode': '2', 'group_id': '0', 'web_url': 'https://pay.n8stg.com/Common/NotifyWithdrawal/Pay', 'memo': '1', 'key': '9586db5566ef115b824528b45ad67f60', 'terminal': '1'}\";\n",
    "\n",
    "\n",
    "\n",
    "// Deserialize the JSON string into an object\n",
    "JuBaoPenPayDepositSubmissionRequest jsonstr = JsonConvert.DeserializeObject<JuBaoPenPayDepositSubmissionRequest>(jsonString);\n",
    "\n",
    "// Now you can access the properties of the object\n",
    "Console.WriteLine($\"Name: {jsonstr.company_id}\");\n",
    "\n"
   ]
  },
  {
   "cell_type": "markdown",
   "metadata": {},
   "source": [
    "## Sample Request Payment Gateway\n",
    "\n",
    "***JuBaoPen***\n",
    "```C#\n",
    "\"{ \n",
    "'company_id': '1470', \n",
    "'bank_id': '1', \n",
    "'amount': '100', \n",
    "'company_order_num': '1', \n",
    "'company_user': '1', \n",
    "'estimated_payment_bank': '1', \n",
    "'deposit_mode': '2', \n",
    "'group_id': '0', \n",
    "'web_url': 'https://pay.n8stg.com/Common/NotifyWithdrawal/Pay', \n",
    "'memo': '1', \n",
    "'key': '9586db5566ef115b824528b45ad67f60', \n",
    "'terminal': '1'\n",
    "}\"\n",
    "\n",
    "\"{ \n",
    "'company_id': 'Bar', \n",
    "'bank_id': 'Bar2', \n",
    "'amount': 'Bar2', \n",
    "'company_order_num': 'Bar2', \n",
    "'company_user': 'Bar2', \n",
    "'card_num': 'Bar2', \n",
    "'card_name': 'Bar2', \n",
    "'web_url': 'Bar2', \n",
    "'Fooo': 'Bar2', \n",
    "'Fooo': 'Bar2', \n",
    "'Fooo': 'Bar2'\n",
    "}\"\n",
    "\n",
    "```"
   ]
  },
  {
   "cell_type": "code",
   "execution_count": null,
   "metadata": {
    "dotnet_interactive": {
     "language": "csharp"
    },
    "polyglot_notebook": {
     "kernelName": "csharp"
    }
   },
   "outputs": [],
   "source": [
    "// JuBaoPen Models\n",
    "\n",
    "public class JuBaoPenPayDepositSubmissionRequest\n",
    "{\n",
    "    internal string company_id { get; set; }\n",
    "    internal string bank_id { get; set; }\n",
    "    internal string amount { get; set; }\n",
    "    internal string company_order_num { get; set; }\n",
    "    internal string company_user { get; set; }\n",
    "    internal string estimated_payment_bank { get; set; }\n",
    "    internal string deposit_mode { get; set; }\n",
    "    internal string group_id { get; set; }\n",
    "    internal string web_url { get; set; }\n",
    "    internal string memo { get; set; }\n",
    "    internal string key { get; set; }\n",
    "    internal string terminal { get; set; }\n",
    "    internal JuBaoPenPayDepositSubmissionRequest(\n",
    "            string strcompany_id,\n",
    "            string strbank_id,\n",
    "            string stramount,\n",
    "            string strcompany_order_num,\n",
    "            string strcompany_user,\n",
    "            string strestimated_payment_bank,\n",
    "            string strdeposit_mode,\n",
    "            string strgroup_id,\n",
    "            string strweb_url,\n",
    "            string strmemo,\n",
    "            string strkey,\n",
    "            string strterminal)\n",
    "    {\n",
    "        company_id = strcompany_id;\n",
    "        bank_id = strbank_id;\n",
    "        amount = stramount;\n",
    "        company_order_num = strcompany_order_num;\n",
    "        company_user = strcompany_user;\n",
    "        estimated_payment_bank = strestimated_payment_bank;\n",
    "        deposit_mode = strdeposit_mode;\n",
    "        group_id = strgroup_id;\n",
    "        web_url = strweb_url;\n",
    "        memo = strmemo;\n",
    "        key = strkey;\n",
    "        terminal = strterminal;\n",
    "    }\n",
    "}"
   ]
  },
  {
   "cell_type": "code",
   "execution_count": null,
   "metadata": {
    "dotnet_interactive": {
     "language": "csharp"
    },
    "polyglot_notebook": {
     "kernelName": "csharp"
    }
   },
   "outputs": [],
   "source": [
    "#region Helper\n",
    "    internal static class Helper\n",
    "    {\n",
    "        internal static string Base64Encode(string plainText)\n",
    "        {\n",
    "            var plainTextBytes = Encoding.UTF8.GetBytes(plainText);\n",
    "            return Convert.ToBase64String(plainTextBytes);\n",
    "        }\n",
    "\n",
    "        internal static string Base64Decode(string base64EncodedData)\n",
    "        {\n",
    "            var base64EncodedBytes = Convert.FromBase64String(base64EncodedData);\n",
    "            return Encoding.UTF8.GetString(base64EncodedBytes);\n",
    "        }\n",
    "\n",
    "        /// <summary>\n",
    "        /// Generate encrypted key in base64\n",
    "        /// </summary>\n",
    "        /// <param name=\"strKey1\">Data to be stored in</param>\n",
    "        /// <returns></returns>\n",
    "        internal static string GenerateKey(string strKey1)\n",
    "        {\n",
    "            string encryptedText = Base64Encode(strKey1);\n",
    "            return encryptedText;\n",
    "        }\n",
    "\n",
    "        internal static string Stringify(object obj)\n",
    "        {\n",
    "            try\n",
    "            {\n",
    "                if (obj == null)\n",
    "                    return string.Empty;\n",
    "                if (obj is decimal)\n",
    "                    return ((decimal)obj).ToString();\n",
    "                if (obj is int?)\n",
    "                    return ((int?)obj).HasValue ? obj.ToString() : string.Empty;\n",
    "                return obj.ToString().Trim();\n",
    "            }\n",
    "            catch (Exception ex)\n",
    "            {\n",
    "                throw;\n",
    "            }\n",
    "        }\n",
    "\n",
    "        /// <summary>\n",
    "        /// Signature Generations\n",
    "        /// </summary>\n",
    "        internal static string SignatureGeneration(Dictionary<string, string> requestDataDict,\n",
    "            Dictionary<string, string> dictKeys,\n",
    "            JuBaoPenPayActionType actionType)\n",
    "        {\n",
    "            string message = string.Empty;\n",
    "            string signature = string.Empty;\n",
    "\n",
    "            switch (actionType)\n",
    "            {\n",
    "                case JuBaoPenPayActionType.DepositRequest:\n",
    "                    {\n",
    "                        message = HashMessage(requestDataDict, dictKeys, true, false, false, false);\n",
    "                        signature = AppCryptoHelper.GetMd5Hash(message).ToLower();\n",
    "                        break;\n",
    "                    }\n",
    "                case JuBaoPenPayActionType.DepositNotify:\n",
    "                    {\n",
    "                        message = HashMessage(requestDataDict, dictKeys, false, true, false, false);\n",
    "                        signature = AppCryptoHelper.GetMd5Hash(message).ToLower();\n",
    "                        break;\n",
    "                    }\n",
    "                case JuBaoPenPayActionType.WithdrawalRequest:\n",
    "                    {\n",
    "                        message = HashMessage(requestDataDict, dictKeys, false, false, true, false);\n",
    "                        signature = AppCryptoHelper.GetMd5Hash(message).ToLower();\n",
    "                        break;\n",
    "                    }\n",
    "\n",
    "                case JuBaoPenPayActionType.WithdrawalNotify:\n",
    "                    {\n",
    "                        message = HashMessage(requestDataDict, dictKeys, false, false, false, true);\n",
    "                        signature = AppCryptoHelper.GetMd5Hash(message).ToLower();\n",
    "                        break;\n",
    "                    }\n",
    "                default:\n",
    "                    {\n",
    "                        signature = AppCryptoHelper.GetMd5Hash(message).ToLower();\n",
    "                        break;\n",
    "                    }\n",
    "            }\n",
    "\n",
    "            return signature;\n",
    "        }\n",
    "        /// <summary>\n",
    "        /// Hash Message Generations\n",
    "        /// </summary>\n",
    "        internal static string HashMessage(Dictionary<string, string> requestDataDict,\n",
    "            Dictionary<string, string> dictKeys,\n",
    "            bool depositRequest, bool depositNotify,\n",
    "            bool withdrawalRequest, bool withdrawalNotify)\n",
    "        {\n",
    "            string message = string.Empty;\n",
    "            string message2 = string.Empty;\n",
    "            string message3 = string.Empty;\n",
    "            string message4 = string.Empty;\n",
    "            int i = 0;\n",
    "            foreach (KeyValuePair<string, string> value in requestDataDict)\n",
    "            {\n",
    "                if (!String.IsNullOrEmpty(value.Value))\n",
    "                {\n",
    "                    if (depositRequest)\n",
    "                    {\n",
    "                        if (Enum.TryParse(value.Key, out JuBaoPenPayDepositMessageRequest checkEnum))\n",
    "                        {\n",
    "                            message += $\"{value.Value}\";\n",
    "                        }\n",
    "                    }\n",
    "                    if (depositNotify)\n",
    "                    {\n",
    "                        if (Enum.TryParse(value.Key, out JuBaoPenPayDepositNotifyRequest checkEnum))\n",
    "                        {\n",
    "                            message += $\"{value.Value}\";\n",
    "                        }\n",
    "                        if (Enum.TryParse(value.Key, out JuBaoPenPayDepositNotifyRequest2 checkEnum2))\n",
    "                        {\n",
    "                            message2 += $\"{value.Value}\";\n",
    "                        }\n",
    "                    }\n",
    "                    if (withdrawalRequest)\n",
    "                    {\n",
    "                        if (Enum.TryParse(value.Key, out JuBaoPenPayWithdrawalMessageRequest checkEnum))\n",
    "                        {\n",
    "                            message += $\"{value.Value}\";\n",
    "                        }\n",
    "                        if (Enum.TryParse(value.Key, out JuBaoPenPayWithdrawalMessageRequest2 checkEnum2))\n",
    "                        {\n",
    "                            message2 += $\"{value.Value}\";\n",
    "                        }\n",
    "                        if (Enum.TryParse(value.Key, out JuBaoPenPayWithdrawalMessageRequest3 checkEnum3))\n",
    "                        {\n",
    "                            message3 += $\"{value.Value}\";\n",
    "                        }\n",
    "                        if (Enum.TryParse(value.Key, out JuBaoPenPayWithdrawalMessageRequest4 checkEnum4))\n",
    "                        {\n",
    "                            message4 += $\"{value.Value}\";\n",
    "                        }\n",
    "                    }\n",
    "                    if (withdrawalNotify)\n",
    "                    {\n",
    "                        if (Enum.TryParse(value.Key, out JuBaoPenPayWithdrawalNotifyRequest checkEnum))\n",
    "                        {\n",
    "                            message += $\"{value.Value}\";\n",
    "                        }\n",
    "\n",
    "                        if (Enum.TryParse(value.Key, out JuBaoPenPayWithdrawalNotifyRequest2 checkEnum2))\n",
    "                        {\n",
    "                            message2 += $\"{value.Value}\";\n",
    "                        }\n",
    "\n",
    "                        if (Enum.TryParse(value.Key, out JuBaoPenPayWithdrawalNotifyRequest3 checkEnum3))\n",
    "                        {\n",
    "                            message3 += $\"{value.Value}\";\n",
    "                        }\n",
    "                    }\n",
    "                }\n",
    "                i++;\n",
    "            }\n",
    "            message = message + message2 + message3 + message4;\n",
    "            var key = dictKeys.ContainsKey(JuBaoPenPaySecureKey.Key.ToString())\n",
    "                ? AppCryptoHelper.GetMd5Hash($\"{dictKeys[JuBaoPenPaySecureKey.Key.ToString()]}\").ToLower()\n",
    "                : string.Empty;\n",
    "            message = key+message;\n",
    "\n",
    "            return message;\n",
    "        }\n",
    "\n",
    "        internal static Dictionary<string, string> StatusCode = new Dictionary<string, string>\n",
    "        {\n",
    "            { \"0\", \"订单生成\" },\n",
    "            { \"1\", \"支付中\" },\n",
    "            { \"2\", \"支付成功\" },\n",
    "            { \"3\", \"业务处理完成\" },\n",
    "            { \"5\", \" 支付失败\" }\n",
    "        };\n",
    "    }\n",
    "    #endregion Helper"
   ]
  },
  {
   "cell_type": "code",
   "execution_count": null,
   "metadata": {
    "dotnet_interactive": {
     "language": "csharp"
    },
    "polyglot_notebook": {
     "kernelName": "csharp"
    }
   },
   "outputs": [],
   "source": [
    "#region Enum\n",
    "    internal enum JuBaoPenPaySecureKey\n",
    "    {\n",
    "        Key\n",
    "    }\n",
    "\n",
    "    internal enum JuBaoPenPayDepositMessageRequest\n",
    "    {\n",
    "        company_id,\n",
    "        bank_id,\n",
    "        amount,\n",
    "        company_order_num,\n",
    "        company_user,\n",
    "        estimated_payment_bank,\n",
    "        deposit_mode,\n",
    "        group_id,\n",
    "        web_url,\n",
    "        memo,\n",
    "        note,\n",
    "        note_model\n",
    "    }\n",
    "\n",
    "\n",
    "    internal enum JuBaoPenPayDepositNotifyRequest\n",
    "    {\n",
    "        pay_time,\n",
    "        bank_id,\n",
    "        amount,\n",
    "        company_order_num,\n",
    "        mownecum_order_num,\n",
    "        fee\n",
    "    }\n",
    "\n",
    "    internal enum JuBaoPenPayDepositNotifyRequest2\n",
    "    {\n",
    "        transaction_charge,\n",
    "        deposit_mode\n",
    "    }\n",
    "\n",
    "\n",
    "    internal enum JuBaoPenPayWithdrawalMessageRequest\n",
    "    {\n",
    "        company_id,\n",
    "        bank_id,\n",
    "        company_order_num\n",
    "    }\n",
    "    internal enum JuBaoPenPayWithdrawalMessageRequest2\n",
    "    {\n",
    "        amount,\n",
    "        card_num,\n",
    "        card_name\n",
    "    }\n",
    "    internal enum JuBaoPenPayWithdrawalMessageRequest3\n",
    "    {\n",
    "        company_user,\n",
    "        web_url\n",
    "    }\n",
    "    internal enum JuBaoPenPayWithdrawalMessageRequest4\n",
    "    {\n",
    "        issue_bank_name,\n",
    "        issue_bank_address,\n",
    "        memo\n",
    "    }\n",
    "\n",
    "    internal enum JuBaoPenPayWithdrawalNotifyRequest\n",
    "    {\n",
    "        mownecum_order_num\n",
    "    }\n",
    "\n",
    "    internal enum JuBaoPenPayWithdrawalNotifyRequest2\n",
    "    {\n",
    "        company_order_num\n",
    "    }\n",
    "\n",
    "    internal enum JuBaoPenPayWithdrawalNotifyRequest3\n",
    "    {\n",
    "        status,\n",
    "        amount,\n",
    "        exact_transaction_charge\n",
    "    }\n",
    "\n",
    "\n",
    "    internal enum JuBaoPenPayActionType\n",
    "    {\n",
    "        DepositRequest,\n",
    "        WithdrawalRequest,\n",
    "        DepositResponse,\n",
    "        WithdrawalResponse,\n",
    "        DepositNotify,\n",
    "        WithdrawalNotify\n",
    "    }\n",
    "#endregion Enum"
   ]
  },
  {
   "cell_type": "code",
   "execution_count": null,
   "metadata": {
    "dotnet_interactive": {
     "language": "csharp"
    },
    "polyglot_notebook": {
     "kernelName": "csharp"
    }
   },
   "outputs": [],
   "source": [
    "#region Crypto\n",
    "\n",
    "    using System;\n",
    "    using System.IO;\n",
    "    using System.Security.Cryptography;\n",
    "    using System.Text;\n",
    "\n",
    "    public class AppCryptoHelper\n",
    "    {\n",
    "        /// <summary>\n",
    "        /// use AES 256 to encrypt\n",
    "        /// </summary>\n",
    "        /// <param name=\"source\">context</param>\n",
    "        /// <param name=\"key\">32 chars => 32*8=256</param>\n",
    "        /// <param name=\"iv\">16 chars => 16 * 8= 128</param>\n",
    "        /// <returns></returns>\n",
    "\n",
    "        public static string EncryptAES256(string source, string key, string iv)\n",
    "        {\n",
    "            byte[] sourceBytes = Encoding.UTF8.GetBytes(source);\n",
    "            var aes = new RijndaelManaged();\n",
    "            aes.Key = Encoding.UTF8.GetBytes(key);\n",
    "            aes.IV = Encoding.UTF8.GetBytes(iv);\n",
    "            aes.Mode = CipherMode.CBC;\n",
    "            aes.Padding = PaddingMode.PKCS7;\n",
    "            ICryptoTransform transform = aes.CreateEncryptor();\n",
    "            return Convert.ToBase64String(transform.TransformFinalBlock(sourceBytes, 0, sourceBytes.Length));\n",
    "\n",
    "        }\n",
    "\n",
    "        /// <summary>\n",
    "        /// use AES 256 to encrypt\n",
    "        /// </summary>\n",
    "        /// <param name=\"encryptData\">encrypted by Base64</param>\n",
    "        /// <param name=\"key\">32 chars => 32*8=256</param>\n",
    "        /// <param name=\"iv\">16 chars => 16 * 8= 128</param>\n",
    "        /// <returns></returns>\n",
    "        public static string DecryptAES256(string encryptData, string key, string iv)\n",
    "        {\n",
    "            var encryptBytes = Convert.FromBase64String(encryptData);\n",
    "            var aes = new RijndaelManaged();\n",
    "            aes.Key = Encoding.UTF8.GetBytes(key);\n",
    "            aes.IV = Encoding.UTF8.GetBytes(iv);\n",
    "\n",
    "            aes.Mode = CipherMode.CBC;\n",
    "            aes.Padding = PaddingMode.PKCS7;\n",
    "            ICryptoTransform transform = aes.CreateDecryptor();\n",
    "            return Encoding.UTF8.GetString(transform.TransformFinalBlock(encryptBytes, 0, encryptBytes.Length));\n",
    "        }\n",
    "        public static string EnpryptAES(string plainText, string aeskey, string ivkey)\n",
    "        {\n",
    "            var AES = new RijndaelManaged();\n",
    "            byte[] plainTextData = Encoding.UTF8.GetBytes(plainText);\n",
    "            byte[] keyData = Encoding.UTF8.GetBytes(aeskey);\n",
    "            byte[] IVData = Encoding.UTF8.GetBytes(ivkey);\n",
    "            ICryptoTransform transform = AES.CreateEncryptor(keyData, IVData);\n",
    "            byte[] outputData = transform.TransformFinalBlock(plainTextData, 0, plainTextData.Length);\n",
    "            return Convert.ToBase64String(outputData);\n",
    "        }\n",
    "        public static string DecryptAES(string plainText, string aeskey, string ivkey)\n",
    "        {\n",
    "            var AES = new RijndaelManaged();\n",
    "            var cipherTextData = Convert.FromBase64String(plainText);\n",
    "            byte[] keyData = Encoding.UTF8.GetBytes(aeskey);\n",
    "            byte[] IVData = Encoding.UTF8.GetBytes(ivkey);\n",
    "            ICryptoTransform transform = AES.CreateDecryptor(keyData, IVData);\n",
    "            byte[] outputData = transform.TransformFinalBlock(cipherTextData, 0, cipherTextData.Length);\n",
    "            return Encoding.UTF8.GetString(outputData);\n",
    "        }\n",
    "        public static string GetMd5Hash(string input) => GetMd5Hash(input, Encoding.UTF8);\n",
    "        public static string GetMd5Hash(string input, Encoding encoding)\n",
    "        {\n",
    "            StringBuilder sBuilder = new StringBuilder();\n",
    "            using (MD5 md5Hash = MD5.Create())\n",
    "            {\n",
    "                byte[] data = md5Hash.ComputeHash(encoding.GetBytes(input));\n",
    "                for (int i = 0; i < data.Length; i++)\n",
    "                    sBuilder.Append(data[i].ToString(\"x2\"));\n",
    "            }\n",
    "            return sBuilder.ToString();\n",
    "        }\n",
    "\n",
    "        public static string EncryptSHA256(string input)\n",
    "        {\n",
    "            using (var sha256 = new SHA256Managed())\n",
    "            {\n",
    "                return BitConverter.ToString(sha256.ComputeHash(Encoding.UTF8.GetBytes(input))).Replace(\"-\", string.Empty);\n",
    "            }\n",
    "        }\n",
    "\n",
    "        public static string EncryptSHA256WithBase64(string plainText)\n",
    "        {\n",
    "            using (var sha256 = new SHA256Managed())\n",
    "            {\n",
    "               return System.Convert.ToBase64String(sha256.ComputeHash(Encoding.UTF8.GetBytes(plainText))).Replace(\"-\", string.Empty);\n",
    "            }\n",
    "        }\n",
    "\n",
    "        public static string GetHMACSHA256(string plainText, string shakey) => GetHMACSHA256(plainText, shakey, Encoding.UTF8);\n",
    "\n",
    "        public static string GetHMACSHA256(string plainText, string shakey, Encoding encoding)\n",
    "        {\n",
    "            byte[] encodedKey = encoding.GetBytes(shakey);\n",
    "            byte[] encodedPlainText = encoding.GetBytes(plainText);\n",
    "\n",
    "            byte[] hashResult;\n",
    "\n",
    "            HMACSHA256 hmac = new HMACSHA256(encodedKey);\n",
    "\n",
    "            hashResult = hmac.ComputeHash(encodedPlainText);\n",
    "            string digest = BitConverter.ToString(hashResult).Replace(\"-\", \"\");\n",
    "            hmac.Dispose();\n",
    "\n",
    "            return digest;\n",
    "        }\n",
    "\n",
    "        public static string EncryptDES_ToHEX(string plainText, string sKey, Encoding encoding)\n",
    "        {\n",
    "            // Create a MemoryStream.\n",
    "            System.IO.MemoryStream mStream = new System.IO.MemoryStream();\n",
    "\n",
    "            // Create a new DES object.\n",
    "            DES DESalg = DES.Create();\n",
    "            //Set secret key For DES algorithm.\n",
    "            DESalg.Key = encoding.GetBytes(sKey);\n",
    "            //Set initialization vector.\n",
    "            DESalg.IV = encoding.GetBytes(sKey);\n",
    "\n",
    "            // Create a CryptoStream using the MemoryStream\n",
    "            CryptoStream cStream = new CryptoStream(mStream, DESalg.CreateEncryptor(), CryptoStreamMode.Write);\n",
    "\n",
    "            // Convert the passed string to a byte array.\n",
    "            byte[] toEncrypt = encoding.GetBytes(plainText);\n",
    "\n",
    "            // Write the byte array to the crypto stream and flush it.\n",
    "            cStream.Write(toEncrypt, 0, toEncrypt.Length);\n",
    "            cStream.FlushFinalBlock();\n",
    "\n",
    "            // Get an array of bytes from the\n",
    "            // MemoryStream that holds the\n",
    "            // encrypted data.\n",
    "            byte[] ret = mStream.ToArray();\n",
    "\n",
    "            // Close the streams.\n",
    "            cStream.Close();\n",
    "            mStream.Close();\n",
    "\n",
    "            // Convert Byte to Hex String\n",
    "            StringBuilder hex = new StringBuilder(ret.Length * 2);\n",
    "            foreach (byte b in ret)\n",
    "                hex.AppendFormat(\"{0:x2}\", b);\n",
    "\n",
    "            return hex.ToString();\n",
    "        }\n",
    "\n",
    "        public static string EncryptDES_ToHEX(string plainText, string sKey, byte[] IV, CipherMode cipherMode, Encoding encoding)\n",
    "        {\n",
    "            // Create a MemoryStream.\n",
    "            System.IO.MemoryStream mStream = new System.IO.MemoryStream();\n",
    "\n",
    "            // Create a new DES object.\n",
    "            DES DESalg = DES.Create();\n",
    "            //Set cipher mode For DES algorithm.\n",
    "            DESalg.Mode = cipherMode;\n",
    "            //Set secret key For DES algorithm.\n",
    "            DESalg.Key = encoding.GetBytes(sKey);\n",
    "            //Set initialization vector.\n",
    "            DESalg.IV = IV.Length > 0 ? IV : encoding.GetBytes(sKey);\n",
    "\n",
    "            // Create a CryptoStream using the MemoryStream\n",
    "            CryptoStream cStream = new CryptoStream(mStream, DESalg.CreateEncryptor(), CryptoStreamMode.Write);\n",
    "\n",
    "            // Convert the passed string to a byte array.\n",
    "            byte[] toEncrypt = encoding.GetBytes(plainText);\n",
    "\n",
    "            // Write the byte array to the crypto stream and flush it.\n",
    "            cStream.Write(toEncrypt, 0, toEncrypt.Length);\n",
    "            cStream.FlushFinalBlock();\n",
    "\n",
    "            // Get an array of bytes from the\n",
    "            // MemoryStream that holds the\n",
    "            // encrypted data.\n",
    "            byte[] ret = mStream.ToArray();\n",
    "\n",
    "            // Close the streams.\n",
    "            cStream.Close();\n",
    "            mStream.Close();\n",
    "\n",
    "            // Convert Byte to Hex String\n",
    "            StringBuilder hex = new StringBuilder(ret.Length * 2);\n",
    "            foreach (byte b in ret)\n",
    "                hex.AppendFormat(\"{0:x2}\", b);\n",
    "\n",
    "            return hex.ToString();\n",
    "        }\n",
    "\n",
    "        public static string DecryptDES_FromHEX(string cipherText, string sKey, Encoding encoding)\n",
    "        {\n",
    "            // Create a new DES object.\n",
    "            DES DESalg = DES.Create();\n",
    "            //Set secret key For DES algorithm.\n",
    "            DESalg.Key = encoding.GetBytes(sKey);\n",
    "            //Set initialization vector.\n",
    "            DESalg.IV = encoding.GetBytes(sKey);\n",
    "\n",
    "            // Convert Hex String to Byte\n",
    "            int NumberChars = cipherText.Length;\n",
    "            byte[] bytes = new byte[NumberChars / 2];\n",
    "            for (int i = 0; i < NumberChars; i += 2)\n",
    "                bytes[i / 2] = Convert.ToByte(cipherText.Substring(i, 2), 16);\n",
    "\n",
    "            // Create a MemoryStream.\n",
    "            System.IO.MemoryStream mStream = new System.IO.MemoryStream(bytes);\n",
    "\n",
    "            // Create a CryptoStream using the FileStream\n",
    "            CryptoStream cStream = new CryptoStream(mStream, DESalg.CreateDecryptor(), CryptoStreamMode.Read);\n",
    "\n",
    "            // Create a StreamReader using the CryptoStream.\n",
    "            System.IO.StreamReader sReader = new System.IO.StreamReader(cStream);\n",
    "\n",
    "            // Read the data from the stream\n",
    "            // to decrypt it.\n",
    "            string plainText = sReader.ReadLine();\n",
    "\n",
    "            // Close the streams and\n",
    "            // close the file.\n",
    "            sReader.Close();\n",
    "            cStream.Close();\n",
    "            mStream.Close();\n",
    "\n",
    "            return plainText;\n",
    "        }\n",
    "\n",
    "        public static string DecryptDES_FromHEX(string cipherText, string sKey, byte[] IV, CipherMode cipherMode, Encoding encoding)\n",
    "        {\n",
    "            // Create a new DES object.\n",
    "            DES DESalg = DES.Create();\n",
    "            //Set cipher mode For DES algorithm.\n",
    "            DESalg.Mode = cipherMode;\n",
    "            //Set secret key For DES algorithm.\n",
    "            DESalg.Key = encoding.GetBytes(sKey);\n",
    "            //Set initialization vector.\n",
    "            DESalg.IV = IV.Length > 0 ? IV : encoding.GetBytes(sKey);\n",
    "\n",
    "            // Convert Hex String to Byte\n",
    "            int NumberChars = cipherText.Length;\n",
    "            byte[] bytes = new byte[NumberChars / 2];\n",
    "            for (int i = 0; i < NumberChars; i += 2)\n",
    "                bytes[i / 2] = Convert.ToByte(cipherText.Substring(i, 2), 16);\n",
    "\n",
    "            // Create a MemoryStream.\n",
    "            System.IO.MemoryStream mStream = new System.IO.MemoryStream(bytes);\n",
    "\n",
    "            // Create a CryptoStream using the FileStream\n",
    "            CryptoStream cStream = new CryptoStream(mStream, DESalg.CreateDecryptor(), CryptoStreamMode.Read);\n",
    "\n",
    "            // Create a StreamReader using the CryptoStream.\n",
    "            System.IO.StreamReader sReader = new System.IO.StreamReader(cStream);\n",
    "\n",
    "            // Read the data from the stream\n",
    "            // to decrypt it.\n",
    "            string plainText = sReader.ReadLine();\n",
    "\n",
    "            // Close the streams and\n",
    "            // close the file.\n",
    "            sReader.Close();\n",
    "            cStream.Close();\n",
    "            mStream.Close();\n",
    "\n",
    "            return plainText;\n",
    "        }\n",
    "\n",
    "        public static string EncryptDES_ToBase64String(string plainText, string Key, byte[] IV, CipherMode cipherMode, Encoding encoding)\n",
    "        {\n",
    "            byte[] byKey = null;\n",
    "            byte[] byIV = null;\n",
    "\n",
    "            byKey = encoding.GetBytes(Key.Substring(0, Key.Length));\n",
    "            byIV = IV.Length > 0 ? IV : encoding.GetBytes(Key.Substring(0, Key.Length));\n",
    "            System.Security.Cryptography.DESCryptoServiceProvider des = new System.Security.Cryptography.DESCryptoServiceProvider();\n",
    "            byte[] inputByteArray = encoding.GetBytes(plainText);\n",
    "            System.IO.MemoryStream ms = new System.IO.MemoryStream();\n",
    "            System.Security.Cryptography.CryptoStream cs = new System.Security.Cryptography.CryptoStream(ms, des.CreateEncryptor(byKey, byIV), System.Security.Cryptography.CryptoStreamMode.Write);\n",
    "            cs.Write(inputByteArray, 0, inputByteArray.Length);\n",
    "            cs.FlushFinalBlock();\n",
    "            return Convert.ToBase64String(ms.ToArray());\n",
    "        }\n",
    "\n",
    "        public static string DecryptDES_FromBase64String(string cipherText, string Key, byte[] IV, CipherMode cipherMode, Encoding encoding)\n",
    "        {\n",
    "            byte[] byKey = null;\n",
    "            byte[] byIV = null;\n",
    "            byte[] inputByteArray = new Byte[cipherText.Length];\n",
    "\n",
    "            byKey = encoding.GetBytes(Key.Substring(0, Key.Length));\n",
    "            byIV = IV.Length > 0 ? IV : encoding.GetBytes(Key.Substring(0, Key.Length));\n",
    "            System.Security.Cryptography.DESCryptoServiceProvider des = new System.Security.Cryptography.DESCryptoServiceProvider();\n",
    "            inputByteArray = Convert.FromBase64String(cipherText);\n",
    "            System.IO.MemoryStream ms = new System.IO.MemoryStream();\n",
    "            System.Security.Cryptography.CryptoStream cs = new System.Security.Cryptography.CryptoStream(ms, des.CreateDecryptor(byKey, byIV), System.Security.Cryptography.CryptoStreamMode.Write);\n",
    "            cs.Write(inputByteArray, 0, inputByteArray.Length);\n",
    "            cs.FlushFinalBlock();\n",
    "            return encoding.GetString(ms.ToArray());\n",
    "        }\n",
    "\n",
    "        public static string EncryptRSA(string xmlPublicKey, byte[] plainbytes)\n",
    "        {\n",
    "            using (RSACryptoServiceProvider rsa = new RSACryptoServiceProvider())\n",
    "            {\n",
    "                rsa.FromXmlString(xmlPublicKey);\n",
    "                //rsa.FromXmlString(Encoding.UTF8.GetString(Convert.FromBase64String(publicKey)));\n",
    "                var bufferSize = (rsa.KeySize / 8 - 11);\n",
    "                byte[] buffer = new byte[bufferSize];//待加密块\n",
    "\n",
    "                using (MemoryStream msInput = new MemoryStream(plainbytes))\n",
    "                {\n",
    "                    using (MemoryStream msOutput = new MemoryStream())\n",
    "                    {\n",
    "                        int readLen;\n",
    "                        while ((readLen = msInput.Read(buffer, 0, bufferSize)) > 0)\n",
    "                        {\n",
    "                            byte[] dataToEnc = new byte[readLen];\n",
    "                            Array.Copy(buffer, 0, dataToEnc, 0, readLen);\n",
    "                            byte[] encData = rsa.Encrypt(dataToEnc, false);\n",
    "                            msOutput.Write(encData, 0, encData.Length);\n",
    "                        }\n",
    "\n",
    "                        byte[] result = msOutput.ToArray();\n",
    "                        rsa.Clear();\n",
    "                        return Convert.ToBase64String(result);\n",
    "                    }\n",
    "                }\n",
    "            }\n",
    "        }\n",
    "\n",
    "        public static string DecryptRSA(string xmlPrivateKey, byte[] cipherbytes)\n",
    "        {\n",
    "            using (RSACryptoServiceProvider rsa = new RSACryptoServiceProvider())\n",
    "            {\n",
    "                rsa.FromXmlString(xmlPrivateKey);\n",
    "                //rsa.FromXmlString(Encoding.UTF8.GetString(Convert.FromBase64String(privateKey)));\n",
    "                int keySize = rsa.KeySize / 8;\n",
    "                byte[] buffer = new byte[keySize];\n",
    "                using (MemoryStream msInput = new MemoryStream(cipherbytes))\n",
    "                {\n",
    "                    using (MemoryStream msOutput = new MemoryStream())\n",
    "                    {\n",
    "                        int readLen;\n",
    "\n",
    "                        while ((readLen = msInput.Read(buffer, 0, keySize)) > 0)\n",
    "                        {\n",
    "                            byte[] dataToDec = new byte[readLen];\n",
    "                            Array.Copy(buffer, 0, dataToDec, 0, readLen);\n",
    "                            byte[] decData = rsa.Decrypt(dataToDec, false);\n",
    "                            msOutput.Write(decData, 0, decData.Length);\n",
    "                        }\n",
    "\n",
    "                        byte[] result = msOutput.ToArray();\n",
    "                        rsa.Clear();\n",
    "\n",
    "                        return Encoding.UTF8.GetString(result);\n",
    "                    }\n",
    "                }\n",
    "            }\n",
    "        }\n",
    "    }\n",
    "\n",
    "#endregion Crypto"
   ]
  },
  {
   "cell_type": "code",
   "execution_count": null,
   "metadata": {
    "dotnet_interactive": {
     "language": "csharp"
    },
    "polyglot_notebook": {
     "kernelName": "csharp"
    }
   },
   "outputs": [],
   "source": [
    "using System;\n",
    "using System.Collections.Generic;\n",
    "using System.ComponentModel;\n",
    "using System.Data;\n",
    "using System.Linq;\n",
    "using System.Linq.Expressions;\n",
    "using System.Reflection;\n",
    "public static class ReflectionHelper\n",
    "{\n",
    "    public static string GetPropertyName<T>(Expression<Func<T>> propertyLambda)\n",
    "    {\n",
    "        var me = propertyLambda.Body as MemberExpression;\n",
    "\n",
    "        if (me == null)\n",
    "        {\n",
    "            throw new ArgumentException(\"You must pass a lambda of the form: '() => Class.Property' or '() => object.Property'\");\n",
    "        }\n",
    "\n",
    "        return me.Member.Name;\n",
    "    }\n",
    "\n",
    "    public static DataTable ToDataTable<T>(IList<T> data)\n",
    "    {\n",
    "        PropertyDescriptorCollection props =\n",
    "            TypeDescriptor.GetProperties(typeof(T));\n",
    "        DataTable table = new DataTable();\n",
    "        for (int i = 0; i < props.Count; i++)\n",
    "        {\n",
    "            PropertyDescriptor prop = props[i];\n",
    "            table.Columns.Add(prop.Name, prop.PropertyType);\n",
    "        }\n",
    "        object[] values = new object[props.Count];\n",
    "        foreach (T item in data)\n",
    "        {\n",
    "            for (int i = 0; i < values.Length; i++)\n",
    "            {\n",
    "                values[i] = props[i].GetValue(item);\n",
    "            }\n",
    "            table.Rows.Add(values);\n",
    "        }\n",
    "        return table;\n",
    "    }\n",
    "    /// <summary>\n",
    "    /// Convert Object to dictionary\n",
    "    /// </summary>\n",
    "    /// <typeparam name=\"Tin\">Data type Object to Convert</typeparam>\n",
    "    /// <typeparam name=\"Tout\">data type for value from string key</typeparam>\n",
    "    /// <param name=\"obj\">Object to convert</param>\n",
    "    /// <param name=\"bindingFlags\">reflection Binding Flags</param>\n",
    "    /// <param name=\"Query\">set it to null to get all property, use linq to filter</param>\n",
    "    /// <param name=\"translator\">function to convert each property to desired data type for value</param>\n",
    "    /// <returns></returns>\n",
    "    public static Dictionary<string, Tout> AsDictionary<Tin, Tout>(Tin obj, System.Reflection.BindingFlags bindingFlags = BindingFlags.Public, Func<PropertyInfo[], IEnumerable<PropertyInfo>> Query = null, Func<object,Tout> translator = null)\n",
    "    {\n",
    "        var props = obj.GetType().GetProperties(bindingFlags);\n",
    "        var propsRules = Query?.Invoke(props) ?? props;\n",
    "        return propsRules\n",
    "            .ToDictionary(ky => ky.Name, val => translator != null ? translator.Invoke(val.GetValue(obj, null)) : (Tout)val.GetValue(obj, null));\n",
    "    }\n",
    "}"
   ]
  },
  {
   "cell_type": "code",
   "execution_count": null,
   "metadata": {
    "dotnet_interactive": {
     "language": "csharp"
    },
    "polyglot_notebook": {
     "kernelName": "csharp"
    }
   },
   "outputs": [],
   "source": [
    "string a = \"12345678-1234-1234-1234-123456781234\";"
   ]
  },
  {
   "cell_type": "code",
   "execution_count": null,
   "metadata": {
    "dotnet_interactive": {
     "language": "csharp"
    },
    "polyglot_notebook": {
     "kernelName": "csharp"
    }
   },
   "outputs": [],
   "source": [
    "Guid guid = new Guid(a);"
   ]
  },
  {
   "cell_type": "code",
   "execution_count": null,
   "metadata": {
    "dotnet_interactive": {
     "language": "csharp"
    },
    "polyglot_notebook": {
     "kernelName": "csharp"
    }
   },
   "outputs": [],
   "source": [
    "DateTime currentDateTime = DateTime.Now;\n",
    "string clientIP = \"::1\";\n",
    "byte[] tokenbytes = guid.ToByteArray();\n",
    "byte[] dtbytes = BitConverter.GetBytes(currentDateTime.ToBinary());\n"
   ]
  },
  {
   "cell_type": "code",
   "execution_count": null,
   "metadata": {
    "dotnet_interactive": {
     "language": "csharp"
    },
    "polyglot_notebook": {
     "kernelName": "csharp"
    }
   },
   "outputs": [],
   "source": [
    "using System.Net;\n",
    "public static byte[] ConvertIPToBytes(string ip)\n",
    "{\n",
    "    IPAddress ipaddress;\n",
    "    bool isValid = IPAddress.TryParse(ip, out ipaddress);\n",
    "\n",
    "    if (isValid)\n",
    "    {\n",
    "        return ipaddress.GetAddressBytes();\n",
    "    }\n",
    "    return null;\n",
    "}\n",
    "\n"
   ]
  },
  {
   "cell_type": "code",
   "execution_count": null,
   "metadata": {
    "dotnet_interactive": {
     "language": "csharp"
    },
    "polyglot_notebook": {
     "kernelName": "csharp"
    }
   },
   "outputs": [],
   "source": [
    "byte[] ipbytes = ConvertIPToBytes(clientIP);\n",
    "byte[] msg = new byte[tokenbytes.Length + dtbytes.Length + ipbytes.Length];"
   ]
  },
  {
   "cell_type": "code",
   "execution_count": null,
   "metadata": {
    "dotnet_interactive": {
     "language": "csharp"
    },
    "polyglot_notebook": {
     "kernelName": "csharp"
    }
   },
   "outputs": [],
   "source": [
    "tokenbytes.CopyTo(msg, 0);\n",
    "dtbytes.CopyTo(msg, tokenbytes.Length);\n",
    "ipbytes.CopyTo(msg, tokenbytes.Length + dtbytes.Length);"
   ]
  },
  {
   "cell_type": "code",
   "execution_count": null,
   "metadata": {
    "dotnet_interactive": {
     "language": "csharp"
    },
    "polyglot_notebook": {
     "kernelName": "csharp"
    }
   },
   "outputs": [],
   "source": [
    "\n",
    "public class resCampaignBaseParam\n",
    "{\n",
    "    public string Message { get; set; }\n",
    "}\n",
    "\n",
    "public class resWithStatus : resCampaignBaseParam\n",
    "{\n",
    "    public bool Success { get; set; }\n",
    "}"
   ]
  },
  {
   "cell_type": "code",
   "execution_count": null,
   "metadata": {
    "dotnet_interactive": {
     "language": "csharp"
    },
    "polyglot_notebook": {
     "kernelName": "csharp"
    }
   },
   "outputs": [],
   "source": [
    "resWithStatus result = new resWithStatus{Message = \"yr\", Success = true};"
   ]
  },
  {
   "cell_type": "code",
   "execution_count": null,
   "metadata": {
    "dotnet_interactive": {
     "language": "csharp"
    },
    "polyglot_notebook": {
     "kernelName": "csharp"
    }
   },
   "outputs": [],
   "source": [
    "using Newtonsoft.Json;"
   ]
  },
  {
   "cell_type": "code",
   "execution_count": null,
   "metadata": {
    "dotnet_interactive": {
     "language": "csharp"
    },
    "polyglot_notebook": {
     "kernelName": "csharp"
    }
   },
   "outputs": [],
   "source": [
    "var jsonrequest = JsonConvert.SerializeObject(result);"
   ]
  },
  {
   "cell_type": "code",
   "execution_count": null,
   "metadata": {
    "dotnet_interactive": {
     "language": "csharp"
    },
    "polyglot_notebook": {
     "kernelName": "csharp"
    }
   },
   "outputs": [],
   "source": [
    "public class test\n",
    "{\n",
    "    public bool Success { get; set; }\n",
    "    public string Message { get; set; }\n",
    "}"
   ]
  },
  {
   "cell_type": "code",
   "execution_count": null,
   "metadata": {
    "dotnet_interactive": {
     "language": "csharp"
    },
    "polyglot_notebook": {
     "kernelName": "csharp"
    }
   },
   "outputs": [],
   "source": [
    "test result3 = new test{Success = true, Message = \"yr\"};"
   ]
  },
  {
   "cell_type": "code",
   "execution_count": null,
   "metadata": {
    "dotnet_interactive": {
     "language": "csharp"
    },
    "polyglot_notebook": {
     "kernelName": "csharp"
    }
   },
   "outputs": [],
   "source": [
    "result3"
   ]
  },
  {
   "cell_type": "code",
   "execution_count": null,
   "metadata": {
    "dotnet_interactive": {
     "language": "csharp"
    },
    "polyglot_notebook": {
     "kernelName": "csharp"
    }
   },
   "outputs": [],
   "source": [
    "resWithStatus result4 = new resWithStatus();\n",
    "result4 = JsonConvert.DeserializeObject<resWithStatus>(jsonrequest);"
   ]
  },
  {
   "cell_type": "code",
   "execution_count": null,
   "metadata": {
    "dotnet_interactive": {
     "language": "csharp"
    },
    "polyglot_notebook": {
     "kernelName": "csharp"
    }
   },
   "outputs": [],
   "source": [
    "result4"
   ]
  },
  {
   "cell_type": "code",
   "execution_count": null,
   "metadata": {
    "dotnet_interactive": {
     "language": "csharp"
    },
    "polyglot_notebook": {
     "kernelName": "csharp"
    }
   },
   "outputs": [],
   "source": [
    "public class test\n",
    "{\n",
    "    public bool? Success { get; set; }\n",
    "    public string Message { get; set; }\n",
    "}\n",
    "public class test2\n",
    "{\n",
    "    public bool fail { get; set; }\n",
    "    public string fm { get; set; }\n",
    "}"
   ]
  },
  {
   "cell_type": "code",
   "execution_count": null,
   "metadata": {
    "dotnet_interactive": {
     "language": "csharp"
    },
    "polyglot_notebook": {
     "kernelName": "csharp"
    }
   },
   "outputs": [],
   "source": [
    "var t = new test{\n",
    "    Success = null,\n",
    "    Message = \"test\"\n",
    "};\n",
    "var t2 = new test2{\n",
    "    fail = false,\n",
    "    fm = \"test2\"\n",
    "};"
   ]
  },
  {
   "cell_type": "code",
   "execution_count": null,
   "metadata": {
    "dotnet_interactive": {
     "language": "csharp"
    },
    "polyglot_notebook": {
     "kernelName": "csharp"
    }
   },
   "outputs": [],
   "source": [
    "public TResponse GetSlotCurrentDraw<TResponse>(string a)\n",
    "{\n",
    "    Console.WriteLine(typeof(TResponse).ToString());\n",
    "    switch (typeof(TResponse))\n",
    "    {\n",
    "        case Type t when t == typeof(test) :\n",
    "            Console.WriteLine(a);\n",
    "            break;\n",
    "\n",
    "        case Type t when t == typeof(test2):\n",
    "            Console.WriteLine(\"qwe\");\n",
    "            break;\n",
    "        default:\n",
    "            // Default process for other types\n",
    "            Console.WriteLine(\"Processing for other types\");\n",
    "            break;\n",
    "    }\n",
    "    return default(TResponse);\n",
    "}\n"
   ]
  },
  {
   "cell_type": "code",
   "execution_count": null,
   "metadata": {
    "dotnet_interactive": {
     "language": "csharp"
    },
    "polyglot_notebook": {
     "kernelName": "csharp"
    }
   },
   "outputs": [],
   "source": [
    "var price = GetSlotCurrentDraw<int>(\"123\");"
   ]
  },
  {
   "cell_type": "code",
   "execution_count": null,
   "metadata": {
    "dotnet_interactive": {
     "language": "csharp"
    },
    "polyglot_notebook": {
     "kernelName": "csharp"
    }
   },
   "outputs": [],
   "source": [
    "private bool _checkCampaignValid<TResponse>(TResponse spiResponse)\n",
    "{\n",
    "    bool isValid = false;\n",
    "    if(typeof(TResponse) == typeof(test))\n",
    "    {\n",
    "            isValid = true;\n",
    "    }\n",
    "\n",
    "    if(typeof(TResponse) == typeof(test2))\n",
    "    {\n",
    "            isValid = false;\n",
    "    }\n",
    "    return isValid;\n",
    "\n",
    "}"
   ]
  },
  {
   "cell_type": "code",
   "execution_count": null,
   "metadata": {
    "dotnet_interactive": {
     "language": "csharp"
    },
    "polyglot_notebook": {
     "kernelName": "csharp"
    }
   },
   "outputs": [],
   "source": [
    "_checkCampaignValid<test>(t)"
   ]
  },
  {
   "cell_type": "code",
   "execution_count": null,
   "metadata": {
    "dotnet_interactive": {
     "language": "csharp"
    },
    "polyglot_notebook": {
     "kernelName": "csharp"
    }
   },
   "outputs": [],
   "source": [
    "_checkCampaignValid<test2>(t2)"
   ]
  },
  {
   "cell_type": "code",
   "execution_count": null,
   "metadata": {
    "dotnet_interactive": {
     "language": "csharp"
    },
    "polyglot_notebook": {
     "kernelName": "csharp"
    }
   },
   "outputs": [],
   "source": [
    "t.Success.HasValue"
   ]
  },
  {
   "cell_type": "code",
   "execution_count": null,
   "metadata": {
    "dotnet_interactive": {
     "language": "csharp"
    },
    "polyglot_notebook": {
     "kernelName": "csharp"
    }
   },
   "outputs": [],
   "source": [
    "public enum enumCampaignType\n",
    "    {\n",
    "        HongBao = 1,\n",
    "        STW = 2,\n",
    "        Slot = 3\n",
    "    }"
   ]
  },
  {
   "cell_type": "code",
   "execution_count": null,
   "metadata": {
    "dotnet_interactive": {
     "language": "csharp"
    },
    "polyglot_notebook": {
     "kernelName": "csharp"
    }
   },
   "outputs": [],
   "source": [
    "int campaignType = 0;"
   ]
  },
  {
   "cell_type": "code",
   "execution_count": null,
   "metadata": {
    "dotnet_interactive": {
     "language": "csharp"
    },
    "polyglot_notebook": {
     "kernelName": "csharp"
    }
   },
   "outputs": [],
   "source": [
    "campaignType = enumCampaignType.STW;"
   ]
  },
  {
   "cell_type": "code",
   "execution_count": null,
   "metadata": {
    "dotnet_interactive": {
     "language": "csharp"
    },
    "polyglot_notebook": {
     "kernelName": "csharp"
    }
   },
   "outputs": [],
   "source": [
    "enumCampaignType campaignType = enumCampaignType.STW;"
   ]
  },
  {
   "cell_type": "code",
   "execution_count": null,
   "metadata": {
    "dotnet_interactive": {
     "language": "csharp"
    },
    "polyglot_notebook": {
     "kernelName": "csharp"
    }
   },
   "outputs": [],
   "source": [
    "campaignType"
   ]
  },
  {
   "cell_type": "code",
   "execution_count": null,
   "metadata": {
    "dotnet_interactive": {
     "language": "csharp"
    },
    "polyglot_notebook": {
     "kernelName": "csharp"
    }
   },
   "outputs": [],
   "source": [
    "if(campaignType == enumCampaignType.STW){\n",
    "    Console.WriteLine(\"True\");\n",
    "}"
   ]
  },
  {
   "cell_type": "code",
   "execution_count": null,
   "metadata": {
    "dotnet_interactive": {
     "language": "csharp"
    },
    "polyglot_notebook": {
     "kernelName": "csharp"
    }
   },
   "outputs": [],
   "source": [
    "bool t4 = t != null? true : false;"
   ]
  },
  {
   "cell_type": "code",
   "execution_count": null,
   "metadata": {
    "dotnet_interactive": {
     "language": "csharp"
    },
    "polyglot_notebook": {
     "kernelName": "csharp"
    }
   },
   "outputs": [],
   "source": [
    "test t3=null;"
   ]
  },
  {
   "cell_type": "code",
   "execution_count": null,
   "metadata": {
    "dotnet_interactive": {
     "language": "csharp"
    },
    "polyglot_notebook": {
     "kernelName": "csharp"
    }
   },
   "outputs": [],
   "source": [
    "t4 ? true : false"
   ]
  },
  {
   "cell_type": "code",
   "execution_count": null,
   "metadata": {
    "dotnet_interactive": {
     "language": "csharp"
    },
    "polyglot_notebook": {
     "kernelName": "csharp"
    }
   },
   "outputs": [],
   "source": [
    "private TResponse _getPrizeAPI<TRequest, TResponse>(TRequest request)\n",
    "{\n",
    "    Console.WriteLine(request.ToString());\n",
    "    var result  = DateTime.Now;\n",
    "    return result;\n",
    "}"
   ]
  },
  {
   "cell_type": "code",
   "execution_count": null,
   "metadata": {
    "dotnet_interactive": {
     "language": "csharp"
    },
    "polyglot_notebook": {
     "kernelName": "csharp"
    }
   },
   "outputs": [],
   "source": [
    "if(campaignType is enumCampaignType.STW){\n",
    "    Console.WriteLine(\"True\");\n",
    "}"
   ]
  },
  {
   "cell_type": "code",
   "execution_count": null,
   "metadata": {
    "dotnet_interactive": {
     "language": "csharp"
    },
    "polyglot_notebook": {
     "kernelName": "csharp"
    }
   },
   "outputs": [],
   "source": [
    "public string _getTncUrl<TResponse>(enumPlatformType platformType, TResponse spiResponse, enumCampaignType campaignType)\n",
    "        {\n",
    "            string promotionUrl = null;\n",
    "\n",
    "            switch (campaignType)\n",
    "            {\n",
    "                case enumCampaignType.Slot:\n",
    "                    promotionUrl = (platformType == enumPlatformType.APP && promotionUrl == null) \n",
    "                        ? ((test)(object)spiResponse).Success.ToString() : promotionUrl;\n",
    "                    promotionUrl = (platformType == enumPlatformType.Desktop && promotionUrl == null)\n",
    "                        ? ((test)(object)spiResponse).Message : promotionUrl;\n",
    "                    promotionUrl = (platformType == enumPlatformType.H5 && promotionUrl == null)\n",
    "                        ? ((test)(object)spiResponse).Success.ToString() : promotionUrl;\n",
    "                    break;\n",
    "                default:\n",
    "                    break;\n",
    "            }\n",
    "            return promotionUrl;\n",
    "        }\n"
   ]
  },
  {
   "cell_type": "code",
   "execution_count": null,
   "metadata": {
    "dotnet_interactive": {
     "language": "csharp"
    },
    "polyglot_notebook": {
     "kernelName": "csharp"
    }
   },
   "outputs": [],
   "source": [
    "public enum enumPlatformType\n",
    "    {\n",
    "        APP = 1,\n",
    "        Desktop = 2,\n",
    "        H5 = 3\n",
    "    }"
   ]
  },
  {
   "cell_type": "code",
   "execution_count": null,
   "metadata": {
    "dotnet_interactive": {
     "language": "csharp"
    },
    "polyglot_notebook": {
     "kernelName": "csharp"
    }
   },
   "outputs": [],
   "source": [
    "var re =_getTncUrl<test>(enumPlatformType.Desktop, t, enumCampaignType.Slot);"
   ]
  },
  {
   "cell_type": "code",
   "execution_count": null,
   "metadata": {
    "dotnet_interactive": {
     "language": "csharp"
    },
    "polyglot_notebook": {
     "kernelName": "csharp"
    }
   },
   "outputs": [],
   "source": [
    "t.Success.HasValue"
   ]
  },
  {
   "cell_type": "code",
   "execution_count": null,
   "metadata": {
    "dotnet_interactive": {
     "language": "csharp"
    },
    "polyglot_notebook": {
     "kernelName": "csharp"
    }
   },
   "outputs": [],
   "source": [
    "public class test3\n",
    "{\n",
    "    public bool Success { get; set; }\n",
    "    public test? Message { get; set; }\n",
    "}"
   ]
  },
  {
   "cell_type": "code",
   "execution_count": null,
   "metadata": {
    "dotnet_interactive": {
     "language": "csharp"
    },
    "polyglot_notebook": {
     "kernelName": "csharp"
    }
   },
   "outputs": [],
   "source": [
    "var t30 = new test3 {\n",
    "    Success = true,\n",
    "    Message = new test{\n",
    "        Success = true,\n",
    "        Message = \"test\"\n",
    "    }\n",
    "};"
   ]
  },
  {
   "cell_type": "code",
   "execution_count": null,
   "metadata": {
    "dotnet_interactive": {
     "language": "csharp"
    },
    "polyglot_notebook": {
     "kernelName": "csharp"
    }
   },
   "outputs": [],
   "source": [
    "t30.Message.HasValue"
   ]
  },
  {
   "cell_type": "code",
   "execution_count": null,
   "metadata": {
    "dotnet_interactive": {
     "language": "csharp"
    },
    "polyglot_notebook": {
     "kernelName": "csharp"
    }
   },
   "outputs": [],
   "source": [
    "private TResponse RejectSlotPrize<TResponse>(string a)\n",
    "{\n",
    "    TResponse result = default(TResponse);\n",
    "    if(typeof(TResponse) == typeof(test2)){\n",
    "        var t2 = new test2{\n",
    "            fail = false,\n",
    "            fm = a\n",
    "        };\n",
    "        result = (TResponse)(object)t2;\n",
    "\n",
    "    }\n",
    "\n",
    "    if(typeof(TResponse) == typeof(test)){\n",
    "        var t2 = new test{\n",
    "            Success = true,\n",
    "            Message= a\n",
    "        };\n",
    "        result = (TResponse)(object)t2;\n",
    "\n",
    "    }\n",
    "    \n",
    "    return result;\n",
    "}"
   ]
  },
  {
   "cell_type": "code",
   "execution_count": null,
   "metadata": {
    "dotnet_interactive": {
     "language": "csharp"
    },
    "polyglot_notebook": {
     "kernelName": "csharp"
    }
   },
   "outputs": [],
   "source": [
    "var bg = RejectSlotPrize<test2>(\"abc\");"
   ]
  },
  {
   "cell_type": "code",
   "execution_count": null,
   "metadata": {
    "dotnet_interactive": {
     "language": "csharp"
    },
    "polyglot_notebook": {
     "kernelName": "csharp"
    }
   },
   "outputs": [],
   "source": [
    "Console.WriteLine(bg.GetType().ToString());"
   ]
  },
  {
   "cell_type": "code",
   "execution_count": null,
   "metadata": {
    "dotnet_interactive": {
     "language": "csharp"
    },
    "polyglot_notebook": {
     "kernelName": "csharp"
    }
   },
   "outputs": [],
   "source": [
    "Console.WriteLine(bg.GetType().ToString());"
   ]
  },
  {
   "cell_type": "code",
   "execution_count": null,
   "metadata": {
    "dotnet_interactive": {
     "language": "csharp"
    },
    "polyglot_notebook": {
     "kernelName": "csharp"
    }
   },
   "outputs": [],
   "source": [
    "Console.WriteLine(\"test\");"
   ]
  },
  {
   "cell_type": "code",
   "execution_count": null,
   "metadata": {
    "dotnet_interactive": {
     "language": "csharp"
    },
    "polyglot_notebook": {
     "kernelName": "csharp"
    }
   },
   "outputs": [],
   "source": [
    "private int RejectSlotPrize(string a)\n",
    "{\n",
    "    var result = 2;\n",
    "    \n",
    "    return result;\n",
    "}"
   ]
  },
  {
   "cell_type": "code",
   "execution_count": null,
   "metadata": {
    "dotnet_interactive": {
     "language": "csharp"
    },
    "polyglot_notebook": {
     "kernelName": "csharp"
    }
   },
   "outputs": [],
   "source": [
    "RejectSlotPrize(\"s\")"
   ]
  },
  {
   "cell_type": "code",
   "execution_count": null,
   "metadata": {
    "dotnet_interactive": {
     "language": "csharp"
    },
    "polyglot_notebook": {
     "kernelName": "csharp"
    }
   },
   "outputs": [],
   "source": [
    "public class MyObject\n",
    "{\n",
    "    public int Id { get; set; }\n",
    "    public decimal? Amt { get; set; }\n",
    "    public int ValueToSum { get; set; }\n",
    "    public int? RemainCount { get; set; }\n",
    "    public int GivenCount \n",
    "    { \n",
    "        get { return ValueToSum - (int)(RemainCount ?? 0); }         \n",
    "    }\n",
    "}\n",
    "List<MyObject> myList = new List<MyObject>\n",
    "{\n",
    "    new MyObject { Id = 1, Amt = 20.00M, ValueToSum = 5, RemainCount = 2 },\n",
    "    new MyObject { Id = 1, Amt = 20.00M, ValueToSum = 5, RemainCount = 2 },\n",
    "    new MyObject { Id = 3, Amt = 5.00M, ValueToSum = 10, RemainCount = 3 }\n",
    "};\n"
   ]
  },
  {
   "cell_type": "code",
   "execution_count": null,
   "metadata": {
    "dotnet_interactive": {
     "language": "csharp"
    },
    "polyglot_notebook": {
     "kernelName": "csharp"
    }
   },
   "outputs": [],
   "source": [
    "myList = null;\n",
    "myList.Count"
   ]
  },
  {
   "cell_type": "code",
   "execution_count": null,
   "metadata": {
    "dotnet_interactive": {
     "language": "csharp"
    },
    "polyglot_notebook": {
     "kernelName": "csharp"
    }
   },
   "outputs": [],
   "source": [
    "var x = myList.GroupBy(g =>new { g.Id, g.Amt, g.ValueToSum, g.RemainCount, g.GivenCount }).ToList();\n",
    "dynamic(x)\n",
    "x[0].Key.Amt"
   ]
  },
  {
   "cell_type": "code",
   "execution_count": null,
   "metadata": {
    "dotnet_interactive": {
     "language": "csharp"
    },
    "polyglot_notebook": {
     "kernelName": "csharp"
    }
   },
   "outputs": [],
   "source": [
    "x[0].Key.Amt"
   ]
  },
  {
   "cell_type": "code",
   "execution_count": null,
   "metadata": {
    "dotnet_interactive": {
     "language": "csharp"
    },
    "polyglot_notebook": {
     "kernelName": "csharp"
    }
   },
   "outputs": [],
   "source": [
    "dynamic(x)"
   ]
  },
  {
   "cell_type": "code",
   "execution_count": null,
   "metadata": {
    "dotnet_interactive": {
     "language": "csharp"
    },
    "polyglot_notebook": {
     "kernelName": "csharp"
    }
   },
   "outputs": [],
   "source": [
    "myList.Where(x=>x.Amt.HasValue).Where(x=>!string.IsNullOrEmpty(x.Amt.ToString())).Select(x => x.Amt).ToList()"
   ]
  },
  {
   "cell_type": "code",
   "execution_count": null,
   "metadata": {
    "dotnet_interactive": {
     "language": "csharp"
    },
    "polyglot_notebook": {
     "kernelName": "csharp"
    }
   },
   "outputs": [],
   "source": [
    "*27*322"
   ]
  },
  {
   "cell_type": "code",
   "execution_count": null,
   "metadata": {
    "dotnet_interactive": {
     "language": "csharp"
    },
    "polyglot_notebook": {
     "kernelName": "csharp"
    }
   },
   "outputs": [],
   "source": [
    "reqElligibleStakeMdl requestData = new reqElligibleStakeMdl\n",
    "        {\n",
    "            Stake = new List<ElligibleStakeModel>\n",
    "            {\n",
    "                new ElligibleStakeModel { USDT = 100, RMB = 500, VIP1 = 10, VIP2 = 20, VIP3 = 30, VIP4 = 40, VIP5 = 15, VIP6 = 25, VIP7 = 35, VIP8 = 45 },\n",
    "                new ElligibleStakeModel { USDT = 150, RMB = 600, VIP1 = 25, VIP2 = 30, VIP3 = 35, VIP4 = 45, VIP5 = 20, VIP6 = 30, VIP7 = 40, VIP8 = 50 },\n",
    "            }\n",
    "        };\n",
    "\n",
    "      \n",
    "\n"
   ]
  },
  {
   "cell_type": "code",
   "execution_count": null,
   "metadata": {
    "dotnet_interactive": {
     "language": "csharp"
    },
    "polyglot_notebook": {
     "kernelName": "csharp"
    }
   },
   "outputs": [],
   "source": [
    " public class reqElligibleStakeMdl\n",
    "{\n",
    "    public List<ElligibleStakeModel> Stake { get; set; }\n",
    "\n",
    "    public bool ValidateStake()\n",
    "    {\n",
    "        bool result = false;\n",
    "        result = ValidateMaxFreeSpin() && CheckAscendingOrder() && CheckElligibleStakeValue();\n",
    "        return result;\n",
    "    }\n",
    "\n",
    "    private bool ValidateMaxFreeSpin()\n",
    "    {\n",
    "        bool result = false;\n",
    "        List<List<bool>> results = new List<List<bool>>();\n",
    "        for (int i = 0; i < 8; i++)\n",
    "        {\n",
    "            int vipIndex = i + 1 ;\n",
    "            results.Add(Stake.Select(x => x.GetType().GetProperty($\"VIP{vipIndex}\").GetValue(x) as int? > 15).ToList());\n",
    "        }\n",
    "        result = results.Any(x => x.Contains(true)) ? false : true;\n",
    "        return result;\n",
    "    }\n",
    "\n",
    "    private bool CheckAscendingOrder()\n",
    "    {\n",
    "        int numRows = 8;\n",
    "        int numCols = Stake.Count;\n",
    "\n",
    "        for (int col = 0; col < numCols; col++)\n",
    "        {\n",
    "            int lastNonZeroIndex = -1;\n",
    "\n",
    "            // Find the index of the last non-zero value in the current column\n",
    "            for (int row = 0; row < numRows; row++)\n",
    "            {\n",
    "                if (Stake[col].GetVIPValue(row + 1 ) != 0)\n",
    "                {\n",
    "                    lastNonZeroIndex = row + 1;\n",
    "                }\n",
    "            }\n",
    "\n",
    "            // Check if each value in the column is greater than or equal to the previous row until the last non-zero value\n",
    "            for (int row = 2; row <= lastNonZeroIndex; row++)\n",
    "            {\n",
    "                if (Stake[col].GetVIPValue(row) < Stake[col].GetVIPValue(row-1))\n",
    "                {\n",
    "                    return false; // Return false as soon as a column is found not satisfying the condition\n",
    "                }\n",
    "            }\n",
    "        }\n",
    "\n",
    "        return true; // If no column is found not satisfying the condition, return true\n",
    "    }\n",
    "\n",
    "    private bool CheckElligibleStakeValue(){\n",
    "        bool result =  false;\n",
    "        var usdtList = Stake.Select(x=>x.USDT).ToList();\n",
    "        var rmbList = Stake.Select(x=>x.RMB).ToList();\n",
    "        result = rmbList.SequenceEqual(rmbList.OrderBy(x => x)) \n",
    "                    && rmbList.Distinct().Count() == rmbList.Count \n",
    "                    && usdtList.SequenceEqual(usdtList.OrderBy(x => x)) \n",
    "                    && usdtList.Distinct().Count() == usdtList.Count;\n",
    "\n",
    "        return result;\n",
    "    }\n",
    "}\n",
    "\n",
    "public class ElligibleStakeModel2\n",
    "{\n",
    "    public int VIP1 { get; set; }\n",
    "    public int VIP2 { get; set; }\n",
    "    public int VIP3 { get; set; }\n",
    "    public int VIP4 { get; set; }\n",
    "    public int VIP5 { get; set; }\n",
    "    public int VIP6 { get; set; }\n",
    "    public int VIP7 { get; set; }\n",
    "    public int VIP8 { get; set; }\n",
    "    public int USDT { get; set; }\n",
    "    public int RMB { get; set; }\n",
    "\n",
    "    public decimal GetVIPValue(int vipColumn)\n",
    "    {\n",
    "        switch (vipColumn)\n",
    "        {\n",
    "            case 1: return VIP1;\n",
    "            case 2: return VIP2;\n",
    "            case 3: return VIP3;\n",
    "            case 4: return VIP4;\n",
    "            case 5: return VIP5;\n",
    "            case 6: return VIP6;\n",
    "            case 7: return VIP7;\n",
    "            case 8: return VIP8;\n",
    "            default: throw new ArgumentOutOfRangeException(nameof(vipColumn), \"Invalid VIP column number\");\n",
    "        }\n",
    "    }\n",
    "\n",
    "    public int GetCurrencyValue(string currency)\n",
    "    {\n",
    "        switch (currency)\n",
    "        {\n",
    "            case \"USDT\": return USDT;\n",
    "            case \"RMB\" : return RMB;\n",
    "            default: throw new ArgumentOutOfRangeException(nameof(currency), \"Invalid currency code.\");\n",
    "        }\n",
    "    }\n",
    "\n",
    "    \n",
    "}"
   ]
  },
  {
   "cell_type": "code",
   "execution_count": null,
   "metadata": {
    "dotnet_interactive": {
     "language": "csharp"
    },
    "polyglot_notebook": {
     "kernelName": "csharp"
    }
   },
   "outputs": [],
   "source": [
    "public class reqElligibleStakeMdl\n",
    "    {\n",
    "        public List<ElligibleStakeModel> FreeSpin { get; set; }\n",
    "\n",
    "        public bool ValidateStake()\n",
    "        {\n",
    "            bool result = false;\n",
    "            result = ValidateMaxFreeSpin() && CheckAscendingOrder() && CheckElligibleStakeValue();\n",
    "            return result;\n",
    "        }\n",
    "\n",
    "        private bool ValidateMaxFreeSpin()\n",
    "        {\n",
    "            bool result = false;\n",
    "            List<List<bool>> results = new List<List<bool>>();\n",
    "            for (int i = 0; i < 8; i++)\n",
    "            {\n",
    "                int vipIndex = i + 1;\n",
    "                results.Add(FreeSpin.Select(x => x.GetType().GetProperty($\"Vip{vipIndex}\").GetValue(x) as int? > 15).ToList());\n",
    "            }\n",
    "            result = results.Any(x => x.Contains(true)) ? false : true;\n",
    "            return result;\n",
    "        }\n",
    "\n",
    "        private bool CheckAscendingOrder()\n",
    "        {\n",
    "            int numRows = 8;\n",
    "            int numCols = FreeSpin.Count;\n",
    "\n",
    "            for (int col = 0; col < numCols; col++)\n",
    "            {\n",
    "                int lastNonZeroIndex = -1;\n",
    "\n",
    "                for (int row = 0; row < numRows; row++)\n",
    "                {\n",
    "                    if (FreeSpin[col].GetVIPValue(row + 1) != 0)\n",
    "                    {\n",
    "                        lastNonZeroIndex = row + 1;\n",
    "                    }\n",
    "                }\n",
    "\n",
    "                for (int row = 2; row <= lastNonZeroIndex; row++)\n",
    "                {\n",
    "                    if (FreeSpin[col].GetVIPValue(row) < FreeSpin[col].GetVIPValue(row - 1))\n",
    "                    {\n",
    "                        return false; \n",
    "                    }\n",
    "                }\n",
    "            }\n",
    "\n",
    "            return true; \n",
    "        }\n",
    "\n",
    "        private bool CheckElligibleStakeValue()\n",
    "        {\n",
    "            bool result = false;\n",
    "            var usdtList = FreeSpin.Select(x => x.StakeUsdt).ToList();\n",
    "            var rmbList = FreeSpin.Select(x => x.StakeRmb).ToList();\n",
    "            result = rmbList.SequenceEqual(rmbList.OrderBy(x => x))\n",
    "                        && rmbList.Distinct().Count() == rmbList.Count\n",
    "                        && usdtList.SequenceEqual(usdtList.OrderBy(x => x))\n",
    "                        && usdtList.Distinct().Count() == usdtList.Count;\n",
    "\n",
    "            return result;\n",
    "        }\n",
    "    }\n",
    "\n",
    "    public class ElligibleStakeModel\n",
    "    {\n",
    "        //todo add new draw model\n",
    "        public int StakeUsdt { get; set; }\n",
    "        public int StakeRmb { get; set; }\n",
    "        public int Vip1 { get; set; }\n",
    "        public int Vip2 { get; set; }\n",
    "        public int Vip3 { get; set; }\n",
    "        public int Vip4 { get; set; }\n",
    "        public int Vip5 { get; set; }\n",
    "        public int Vip6 { get; set; }\n",
    "        public int Vip7 { get; set; }\n",
    "        public int Vip8 { get; set; }\n",
    "\n",
    "        public decimal GetVIPValue(int vipColumn)\n",
    "        {\n",
    "            switch (vipColumn)\n",
    "            {\n",
    "                case 1: return Vip1;\n",
    "                case 2: return Vip2;\n",
    "                case 3: return Vip3;\n",
    "                case 4: return Vip4;\n",
    "                case 5: return Vip5;\n",
    "                case 6: return Vip6;\n",
    "                case 7: return Vip7;\n",
    "                case 8: return Vip8;\n",
    "                default: throw new ArgumentOutOfRangeException(nameof(vipColumn), \"Invalid VIP column number\");\n",
    "            }\n",
    "        }\n",
    "\n",
    "    }"
   ]
  },
  {
   "cell_type": "code",
   "execution_count": null,
   "metadata": {
    "dotnet_interactive": {
     "language": "csharp"
    },
    "polyglot_notebook": {
     "kernelName": "csharp"
    }
   },
   "outputs": [],
   "source": [
    "var Stake = new reqElligibleStakeMdl {\n",
    "    FreeSpin = new List<ElligibleStakeModel>\n",
    "    {\n",
    "        new ElligibleStakeModel { StakeUsdt = 150, StakeRmb = 500, Vip1 = 1, Vip2 = 2, Vip3 = 4, Vip4 = 5, Vip5 = 0, Vip6 = 0, Vip7 = 0, Vip8 = 0 },\n",
    "        new ElligibleStakeModel { StakeUsdt = 150, StakeRmb = 550, Vip1 = 1, Vip2 = 2, Vip3 = 3, Vip4 = 5, Vip5 = 0, Vip6 = 0, Vip7 = 0, Vip8 = 0 },\n",
    "        new ElligibleStakeModel { StakeUsdt = 180, StakeRmb = 600, Vip1 = 1, Vip2 = 2, Vip3 = 3, Vip4 = 5, Vip5 = 0, Vip6 = 0, Vip7 = 0, Vip8 = 0 },\n",
    "        new ElligibleStakeModel { StakeUsdt = 200, StakeRmb = 650, Vip1 = 1, Vip2 = 2, Vip3 = 4, Vip4 = 5, Vip5 = 8, Vip6 = 10, Vip7 = 14, Vip8 = 15 },\n",
    "    }\n",
    "};"
   ]
  },
  {
   "cell_type": "code",
   "execution_count": null,
   "metadata": {
    "dotnet_interactive": {
     "language": "csharp"
    },
    "polyglot_notebook": {
     "kernelName": "csharp"
    }
   },
   "outputs": [],
   "source": [
    "Stake.ValidateStake()"
   ]
  },
  {
   "cell_type": "code",
   "execution_count": null,
   "metadata": {
    "dotnet_interactive": {
     "language": "csharp"
    },
    "polyglot_notebook": {
     "kernelName": "csharp"
    }
   },
   "outputs": [],
   "source": [
    "Sta\n",
    "\n",
    "result"
   ]
  },
  {
   "cell_type": "code",
   "execution_count": null,
   "metadata": {
    "dotnet_interactive": {
     "language": "csharp"
    },
    "polyglot_notebook": {
     "kernelName": "csharp"
    }
   },
   "outputs": [],
   "source": [
    "List<bool> rowValueGeq = new List<bool> ();\n",
    "for (int vipIndex = 0; vipIndex < results.Count - 1; vipIndex++)\n",
    "{\n",
    "    bool greaterThanOrEqual =  results[].Zip(results[vipIndex + 1], (prev, next) => next >= prev).All(x => x);\n",
    "    rowValueGeq.Add(greaterThanOrEqual);\n",
    "\n",
    "    if (!greaterThanOrEqual)\n",
    "    {\n",
    "        //Con\n",
    "        Console.WriteLine($\"Values for VIP{vipIndex + 2} are not greater than or equal to the previous row.\");\n",
    "        // You can take further actions if needed\n",
    "    }\n",
    "}"
   ]
  },
  {
   "cell_type": "code",
   "execution_count": null,
   "metadata": {
    "dotnet_interactive": {
     "language": "csharp"
    },
    "polyglot_notebook": {
     "kernelName": "csharp"
    }
   },
   "outputs": [],
   "source": [
    "List<List<int>> results = new List<List<int>>();\n",
    "for (int i = 0; i < 8; i++)\n",
    "{\n",
    "    int vipIndex = i + 1 ;\n",
    "    results.Add(Stake.Stake.Select(x => (int)x.GetType().GetProperty($\"VIP{vipIndex}\").GetValue(x)).ToList());\n",
    "}\n",
    "results"
   ]
  },
  {
   "cell_type": "code",
   "execution_count": null,
   "metadata": {
    "dotnet_interactive": {
     "language": "csharp"
    },
    "polyglot_notebook": {
     "kernelName": "csharp"
    }
   },
   "outputs": [],
   "source": [
    "CheckAscendingOrder(Stake.Stake)"
   ]
  },
  {
   "cell_type": "code",
   "execution_count": null,
   "metadata": {
    "dotnet_interactive": {
     "language": "csharp"
    },
    "polyglot_notebook": {
     "kernelName": "csharp"
    }
   },
   "outputs": [],
   "source": [
    "public ElligibleStakeModel2 GetVIOnly()\n",
    "    {\n",
    "        return new ElligibleStakeModel2 {\n",
    "            VIP1 = VIP1,\n",
    "            VIP2 = VIP2,\n",
    "            VIP3 = VIP3,\n",
    "            VIP4 = VIP4,\n",
    "            VIP5 = VIP5,\n",
    "            VIP6 = VIP6,\n",
    "            VIP7 = VIP7,\n",
    "            VIP8 = VIP8\n",
    "        };\n",
    "    }"
   ]
  },
  {
   "cell_type": "code",
   "execution_count": null,
   "metadata": {
    "dotnet_interactive": {
     "language": "csharp"
    },
    "polyglot_notebook": {
     "kernelName": "csharp"
    }
   },
   "outputs": [],
   "source": [
    "List<bool> rowValueGeq = new List<bool> ();\n",
    "for (int vipIndex = 0; vipIndex < results.Count - 1; vipIndex++)\n",
    "{\n",
    "    bool greaterThanOrEqual =  results[vipIndex].Zip(results[vipIndex + 1], (prev, next) => next >= prev).All(x => x);\n",
    "    rowValueGeq.Add(greaterThanOrEqual);\n",
    "\n",
    "    if (!greaterThanOrEqual)\n",
    "    {\n",
    "        //Con\n",
    "        Console.WriteLine($\"Values for VIP{vipIndex + 2} are not greater than or equal to the previous row.\");\n",
    "        // You can take further actions if needed\n",
    "    }\n",
    "}"
   ]
  },
  {
   "cell_type": "code",
   "execution_count": null,
   "metadata": {
    "dotnet_interactive": {
     "language": "csharp"
    },
    "polyglot_notebook": {
     "kernelName": "csharp"
    }
   },
   "outputs": [],
   "source": [
    "rowValueGeq"
   ]
  },
  {
   "cell_type": "code",
   "execution_count": null,
   "metadata": {
    "dotnet_interactive": {
     "language": "csharp"
    },
    "polyglot_notebook": {
     "kernelName": "csharp"
    }
   },
   "outputs": [],
   "source": [
    "List<bool> rowValueGeq = new List<bool>();\n",
    "\n",
    "for (int vipIndex = 0; vipIndex < results.Count - 1; vipIndex++)\n",
    "{\n",
    "    int lastNonZeroIndex = results[vipIndex].LastIndexOf(results[vipIndex].Where(x => x != 0).Last());\n",
    "\n",
    "    bool greaterThanOrEqual = results[vipIndex].Take(lastNonZeroIndex + 1)\n",
    "                             .Zip(results[vipIndex + 1].Take(lastNonZeroIndex + 1), (prev, next) => next >= prev)\n",
    "                             .All(x => x);\n",
    "\n",
    "    rowValueGeq.Add(greaterThanOrEqual);\n",
    "\n",
    "    if (!greaterThanOrEqual)\n",
    "    {\n",
    "        Console.WriteLine(\"VIP Index \" + vipIndex.ToString());\n",
    "        Console.WriteLine($\"Values for VIP{vipIndex + 2} are not greater than or equal to the previous row.\");\n",
    "        // You can take further actions if needed\n",
    "    }\n",
    "}\n"
   ]
  },
  {
   "cell_type": "code",
   "execution_count": null,
   "metadata": {
    "dotnet_interactive": {
     "language": "csharp"
    },
    "polyglot_notebook": {
     "kernelName": "csharp"
    }
   },
   "outputs": [],
   "source": [
    "results[3].LastIndexOf(results[3].Where(x => x != 0).Last())"
   ]
  },
  {
   "cell_type": "code",
   "execution_count": null,
   "metadata": {
    "dotnet_interactive": {
     "language": "csharp"
    },
    "polyglot_notebook": {
     "kernelName": "csharp"
    }
   },
   "outputs": [],
   "source": [
    "results[3]"
   ]
  },
  {
   "cell_type": "code",
   "execution_count": null,
   "metadata": {
    "dotnet_interactive": {
     "language": "csharp"
    },
    "polyglot_notebook": {
     "kernelName": "csharp"
    }
   },
   "outputs": [],
   "source": [
    "results[3].Take(3+ 1)\n",
    ".Zip(results[3].Take(3+ 1), (prev, next) => next >= prev)\n",
    ".All(x => x)\n"
   ]
  },
  {
   "cell_type": "code",
   "execution_count": null,
   "metadata": {
    "dotnet_interactive": {
     "language": "csharp"
    },
    "polyglot_notebook": {
     "kernelName": "csharp"
    }
   },
   "outputs": [],
   "source": [
    "results[3].Take(3 + 1)\n",
    ".Zip(results[3 + 1].Take(3 + 1), (prev, next) => next >= prev)\n",
    ".All(x => x)"
   ]
  },
  {
   "cell_type": "code",
   "execution_count": null,
   "metadata": {
    "dotnet_interactive": {
     "language": "csharp"
    },
    "polyglot_notebook": {
     "kernelName": "csharp"
    }
   },
   "outputs": [],
   "source": [
    "results[3 + 1].Take(3 + 1)"
   ]
  },
  {
   "cell_type": "code",
   "execution_count": null,
   "metadata": {
    "dotnet_interactive": {
     "language": "csharp"
    },
    "polyglot_notebook": {
     "kernelName": "csharp"
    }
   },
   "outputs": [],
   "source": [
    "List<bool> rowValueGeq = new List<bool>();\n",
    "\n",
    "for (int vipIndex = 0; vipIndex < results.Count - 1; vipIndex++)\n",
    "{\n",
    "    // Find the last non-zero element index in the current row\n",
    "    int lastNonZeroIndex = results[vipIndex].ToList().FindLastIndex(x => x != 0);\n",
    "\n",
    "    // If there are no non-zero elements, consider the entire row\n",
    "    if (lastNonZeroIndex == -1)\n",
    "    {\n",
    "        lastNonZeroIndex = results[vipIndex].Count - 1;\n",
    "    }\n",
    "\n",
    "    // Check if the values in the current and next rows are greater than or equal\n",
    "    bool greaterThanOrEqual = results[vipIndex].Take(lastNonZeroIndex + 1)\n",
    "                             .Zip(results[vipIndex + 1].Take(lastNonZeroIndex + 1), (prev, next) => next >= prev)\n",
    "                             .All(x => x);\n",
    "\n",
    "    rowValueGeq.Add(greaterThanOrEqual);\n",
    "\n",
    "    if (!greaterThanOrEqual)\n",
    "    {\n",
    "        Console.WriteLine(\"VIP Index \" + vipIndex.ToString());\n",
    "        Console.WriteLine($\"Values for VIP{vipIndex + 2} are not greater than or equal to the previous row.\");\n",
    "        // You can take further actions if needed\n",
    "    }\n",
    "}\n",
    "\n"
   ]
  },
  {
   "cell_type": "code",
   "execution_count": null,
   "metadata": {
    "dotnet_interactive": {
     "language": "csharp"
    },
    "polyglot_notebook": {
     "kernelName": "csharp"
    }
   },
   "outputs": [],
   "source": [
    "rowValueGeq"
   ]
  },
  {
   "cell_type": "code",
   "execution_count": null,
   "metadata": {
    "dotnet_interactive": {
     "language": "csharp"
    },
    "polyglot_notebook": {
     "kernelName": "csharp"
    }
   },
   "outputs": [],
   "source": [
    "List<bool> rowValueGeq = new List<bool>();\n",
    "\n",
    "for (int vipIndex = 0; vipIndex < results.Count - 1; vipIndex++)\n",
    "{\n",
    "    // Find the index of the last non-zero element in the current row\n",
    "    int lastNonZeroIndex = results[vipIndex].FindLastIndex(x => x != 0);\n",
    "\n",
    "    // If there are no non-zero elements, consider the entire row\n",
    "    if (lastNonZeroIndex == -1)\n",
    "    {\n",
    "        lastNonZeroIndex = results[vipIndex].Count - 1;\n",
    "    }\n",
    "\n",
    "    // Check if the values in the current and next rows are greater than or equal\n",
    "    bool greaterThanOrEqual = results[vipIndex].Take(lastNonZeroIndex + 1)\n",
    "                             .Zip(results[vipIndex + 1].Take(lastNonZeroIndex + 1), (prev, next) => next >= prev)\n",
    "                             .All(x => x);\n",
    "\n",
    "    rowValueGeq.Add(greaterThanOrEqual);\n",
    "\n",
    "    if (!greaterThanOrEqual)\n",
    "    {\n",
    "        Console.WriteLine(\"VIP Index \" + vipIndex.ToString());\n",
    "        Console.WriteLine($\"Values for VIP{vipIndex + 2} are not greater than or equal to the previous row.\");\n",
    "        // You can take further actions if needed\n",
    "    }\n",
    "}\n"
   ]
  },
  {
   "cell_type": "code",
   "execution_count": null,
   "metadata": {
    "dotnet_interactive": {
     "language": "csharp"
    },
    "polyglot_notebook": {
     "kernelName": "csharp"
    }
   },
   "outputs": [],
   "source": [
    "List<bool> rowValueGeq = new List<bool>();\n",
    "\n",
    "for (int vipIndex = 0; vipIndex < results.Count - 1; vipIndex++)\n",
    "{\n",
    "    // Find the index of the last non-zero element in the current row\n",
    "    int lastNonZeroIndex = results[vipIndex].FindLastIndex(x => x != 0);\n",
    "\n",
    "    // If there are no non-zero elements, consider the entire row\n",
    "    if (lastNonZeroIndex == -1)\n",
    "    {\n",
    "        lastNonZeroIndex = results[vipIndex].Count - 1;\n",
    "    }\n",
    "\n",
    "    // Check if the values in the current and next rows are greater than or equal\n",
    "    bool greaterThanOrEqual = results[vipIndex].Take(lastNonZeroIndex + 1)\n",
    "                             .Zip(results[vipIndex + 1].Take(lastNonZeroIndex + 1), (prev, next) => next >= 0 && next >= prev)\n",
    "                             .All(x => x);\n",
    "\n",
    "    rowValueGeq.Add(greaterThanOrEqual);\n",
    "\n",
    "    if (!greaterThanOrEqual)\n",
    "    {\n",
    "        Console.WriteLine(\"VIP Index \" + vipIndex.ToString());\n",
    "        Console.WriteLine($\"Values for VIP{vipIndex + 2} are not greater than or equal to the previous row.\");\n",
    "        // You can take further actions if needed\n",
    "    }\n",
    "}\n"
   ]
  },
  {
   "cell_type": "code",
   "execution_count": null,
   "metadata": {
    "dotnet_interactive": {
     "language": "csharp"
    },
    "polyglot_notebook": {
     "kernelName": "csharp"
    }
   },
   "outputs": [],
   "source": [
    "static bool CheckTable(int[][] table)\n",
    "{\n",
    "    // Iterate through rows\n",
    "    for (int i = 1; i < table.Length; i++)\n",
    "    {\n",
    "        // Find the last non-zero element index in the current row\n",
    "        int lastNonZeroIndex = Array.FindLastIndex(table[i], x => x != 0);\n",
    "\n",
    "        // Compare elements up to the last non-zero element\n",
    "        for (int j = 0; j <= lastNonZeroIndex; j++)\n",
    "        {\n",
    "            if (table[i][j] < table[i - 1][j])\n",
    "            {\n",
    "                // Current element is less than the previous row's element\n",
    "                return false;\n",
    "            }\n",
    "        }\n",
    "    }\n",
    "\n",
    "    // All comparisons passed\n",
    "    return true;\n",
    "}\n"
   ]
  },
  {
   "cell_type": "code",
   "execution_count": null,
   "metadata": {
    "dotnet_interactive": {
     "language": "csharp"
    },
    "polyglot_notebook": {
     "kernelName": "csharp"
    }
   },
   "outputs": [],
   "source": [
    "int[][] table = new int[][]\n",
    "{\n",
    "    new int[] { 1, 1, 1, 1 },\n",
    "    new int[] { 2, 2, 2, 2 },\n",
    "    new int[] { 3, 3, 3, 4 },\n",
    "    new int[] { 5, 5, 5, 5 },\n",
    "    new int[] { 0, 0, 0, 8 },\n",
    "    new int[] { 0, 0, 0, 11 },\n",
    "    new int[] { 0, 0, 0, 12 },\n",
    "    new int[] { 0, 0, 0, 15 }\n",
    "};\n",
    "\n",
    "// Perform the checks\n",
    "bool result = CheckTable(table);\n",
    "\n",
    "// Display the result\n",
    "Console.WriteLine($\"All rows satisfy the condition: {result}\");"
   ]
  },
  {
   "cell_type": "code",
   "execution_count": null,
   "metadata": {
    "dotnet_interactive": {
     "language": "csharp"
    },
    "polyglot_notebook": {
     "kernelName": "csharp"
    }
   },
   "outputs": [],
   "source": [
    "result"
   ]
  },
  {
   "cell_type": "code",
   "execution_count": null,
   "metadata": {
    "dotnet_interactive": {
     "language": "csharp"
    },
    "polyglot_notebook": {
     "kernelName": "csharp"
    }
   },
   "outputs": [],
   "source": [
    "public class reqElligibleStakeMdl\n",
    "    {\n",
    "        public List<ElligibleStakeModel> Counts { get; set; } \n",
    "\n",
    "        public List<ElligibleStakeModelSeparated> SeparatedStakes {get; set;} = new List<ElligibleStakeModelSeparated>();\n",
    "\n",
    "        public bool ValidateStake()\n",
    "        {\n",
    "            bool result = false;\n",
    "            result = ValidateMaxFreeSpin() && CheckAscendingOrder() && CheckElligibleStakeValue();\n",
    "            return result;\n",
    "        }\n",
    "\n",
    "        private bool ValidateMaxFreeSpin()\n",
    "        {\n",
    "            bool result = false;\n",
    "            List<List<bool>> results = new List<List<bool>>();\n",
    "            for (int i = 0; i < 8; i++)\n",
    "            {\n",
    "                int vipIndex = i + 1;\n",
    "                results.Add(Counts.Select(x => x.GetType().GetProperty($\"Vip{vipIndex}\").GetValue(x) as int? > 15).ToList());\n",
    "            }\n",
    "            result = results.Any(x => x.Contains(true)) ? false : true;\n",
    "            return result;\n",
    "        }\n",
    "\n",
    "        private bool CheckAscendingOrder()\n",
    "        {\n",
    "            int numRows = 8;\n",
    "            int numCols = Counts.Count;\n",
    "\n",
    "            for (int col = 0; col < numCols; col++)\n",
    "            {\n",
    "                int lastNonZeroIndex = -1;\n",
    "\n",
    "                for (int row = 0; row < numRows; row++)\n",
    "                {\n",
    "                    if (Counts[col].GetVIPValue(row + 1) != 0)\n",
    "                    {\n",
    "                        lastNonZeroIndex = row + 1;\n",
    "                    }\n",
    "                }\n",
    "\n",
    "                for (int row = 2; row <= lastNonZeroIndex; row++)\n",
    "                {\n",
    "                    if (Counts[col].GetVIPValue(row) < Counts[col].GetVIPValue(row - 1))\n",
    "                    {\n",
    "                        return false; \n",
    "                    }\n",
    "                }\n",
    "            }\n",
    "\n",
    "            return true; \n",
    "        }\n",
    "\n",
    "        private bool CheckElligibleStakeValue()\n",
    "        {\n",
    "            bool result = false;\n",
    "            var usdtList = Counts.Select(x => x.StakeUsdt).ToList();\n",
    "            var rmbList = Counts.Select(x => x.StakeRmb).ToList();\n",
    "            result = rmbList.SequenceEqual(rmbList.OrderBy(x => x))\n",
    "                        && rmbList.Distinct().Count() == rmbList.Count\n",
    "                        && usdtList.SequenceEqual(usdtList.OrderBy(x => x))\n",
    "                        && usdtList.Distinct().Count() == usdtList.Count;\n",
    "\n",
    "            return result;\n",
    "        }\n",
    "        \n",
    "        public void GetSeparatedStakeInfo(string userId){\n",
    "            foreach (var stake in Counts){\n",
    "                for (int i = 0; i<8;i++){\n",
    "                    this.SeparatedStakes.Add(new ElligibleStakeModelSeparated { \n",
    "                        StakeAmtRmb = stake.StakeRmb,\n",
    "                        StakeAmtUSDT = stake.StakeUsdt,\n",
    "                        VIPLevel = i+1,\n",
    "                        TotalSpin = stake.GetVIPValue(i+1),\n",
    "                        User = userId\n",
    "                    });\n",
    "                }\n",
    "            }\n",
    "\n",
    "        }\n",
    "    }\n",
    "\n",
    "    public class ElligibleStakeModel\n",
    "    {\n",
    "        //todo add new draw model\n",
    "        public int StakeUsdt { get; set; }\n",
    "        public int StakeRmb { get; set; }\n",
    "        public int Vip1 { get; set; }\n",
    "        public int Vip2 { get; set; }\n",
    "        public int Vip3 { get; set; }\n",
    "        public int Vip4 { get; set; }\n",
    "        public int Vip5 { get; set; }\n",
    "        public int Vip6 { get; set; }\n",
    "        public int Vip7 { get; set; }\n",
    "        public int Vip8 { get; set; }\n",
    "\n",
    "        public int GetVIPValue(int vipColumn)\n",
    "        {\n",
    "            switch (vipColumn)\n",
    "            {\n",
    "                case 1: return Vip1;\n",
    "                case 2: return Vip2;\n",
    "                case 3: return Vip3;\n",
    "                case 4: return Vip4;\n",
    "                case 5: return Vip5;\n",
    "                case 6: return Vip6;\n",
    "                case 7: return Vip7;\n",
    "                case 8: return Vip8;\n",
    "                default: throw new ArgumentOutOfRangeException(nameof(vipColumn), \"Invalid VIP column number\");\n",
    "            }\n",
    "        }\n",
    "\n",
    "    }\n",
    "    public class ElligibleStakeModelSeparated\n",
    "    {\n",
    "        //todo add new draw model\n",
    "        public int StakeAmtUSDT { get; set; }\n",
    "        public int StakeAmtRmb { get; set; }\n",
    "        public int VIPLevel { get; set; }\n",
    "        public int TotalSpin { get; set; }\n",
    "        public string User {get; set;}\n",
    "\n",
    "    }"
   ]
  },
  {
   "cell_type": "code",
   "execution_count": null,
   "metadata": {
    "dotnet_interactive": {
     "language": "csharp"
    },
    "polyglot_notebook": {
     "kernelName": "csharp"
    }
   },
   "outputs": [],
   "source": [
    "var Stake = new reqElligibleStakeMdl {\n",
    "    Counts = new List<ElligibleStakeModel>\n",
    "    {\n",
    "        new ElligibleStakeModel { StakeUsdt = 149, StakeRmb = 500, Vip1 = 1, Vip2 = 2, Vip3 = 4, Vip4 = 5, Vip5 = 0, Vip6 = 0, Vip7 = 0, Vip8 = 0 },\n",
    "        new ElligibleStakeModel { StakeUsdt = 150, StakeRmb = 550, Vip1 = 1, Vip2 = 2, Vip3 = 3, Vip4 = 5, Vip5 = 0, Vip6 = 0, Vip7 = 0, Vip8 = 0 },\n",
    "        new ElligibleStakeModel { StakeUsdt = 180, StakeRmb = 600, Vip1 = 1, Vip2 = 2, Vip3 = 3, Vip4 = 5, Vip5 = 0, Vip6 = 0, Vip7 = 0, Vip8 = 0 },\n",
    "        new ElligibleStakeModel { StakeUsdt = 200, StakeRmb = 650, Vip1 = 1, Vip2 = 2, Vip3 = 4, Vip4 = 5, Vip5 = 8, Vip6 = 10, Vip7 = 14, Vip8 = 15 },\n",
    "    }\n",
    "};"
   ]
  },
  {
   "cell_type": "code",
   "execution_count": null,
   "metadata": {
    "dotnet_interactive": {
     "language": "csharp"
    },
    "polyglot_notebook": {
     "kernelName": "csharp"
    }
   },
   "outputs": [],
   "source": [
    "Stake.ValidateStake()"
   ]
  },
  {
   "cell_type": "code",
   "execution_count": null,
   "metadata": {
    "dotnet_interactive": {
     "language": "csharp"
    },
    "polyglot_notebook": {
     "kernelName": "csharp"
    }
   },
   "outputs": [],
   "source": [
    "Stake.GetSeparatedStakeInfo(\"test\");"
   ]
  },
  {
   "cell_type": "code",
   "execution_count": null,
   "metadata": {
    "dotnet_interactive": {
     "language": "csharp"
    },
    "polyglot_notebook": {
     "kernelName": "csharp"
    }
   },
   "outputs": [],
   "source": [
    "Stake.SeparatedStakes"
   ]
  },
  {
   "cell_type": "code",
   "execution_count": null,
   "metadata": {
    "dotnet_interactive": {
     "language": "csharp"
    },
    "polyglot_notebook": {
     "kernelName": "csharp"
    }
   },
   "outputs": [],
   "source": [
    "(int?)null"
   ]
  },
  {
   "cell_type": "code",
   "execution_count": null,
   "metadata": {
    "dotnet_interactive": {
     "language": "csharp"
    },
    "polyglot_notebook": {
     "kernelName": "csharp"
    }
   },
   "outputs": [],
   "source": [
    "var a = \"abc\";"
   ]
  },
  {
   "cell_type": "code",
   "execution_count": null,
   "metadata": {
    "dotnet_interactive": {
     "language": "csharp"
    },
    "polyglot_notebook": {
     "kernelName": "csharp"
    }
   },
   "outputs": [],
   "source": [
    "a.ToCharArray()[0]"
   ]
  },
  {
   "cell_type": "code",
   "execution_count": null,
   "metadata": {
    "dotnet_interactive": {
     "language": "csharp"
    },
    "polyglot_notebook": {
     "kernelName": "csharp"
    }
   },
   "outputs": [],
   "source": [
    "public class ElligibleStakeModel\n",
    "{\n",
    "    //todo add new draw model\n",
    "    public decimal StakeUsdt { get; set; }\n",
    "    public decimal StakeRmb { get; set; }\n",
    "    public int Vip1 { get; set; }\n",
    "    public int Vip2 { get; set; }\n",
    "    public int Vip3 { get; set; }\n",
    "    public int Vip4 { get; set; }\n",
    "    public int Vip5 { get; set; }\n",
    "    public int Vip6 { get; set; }\n",
    "    public int Vip7 { get; set; }\n",
    "    public int Vip8 { get; set; }\n",
    "\n",
    "    public int GetVIPValue(int vipColumn)\n",
    "    {\n",
    "        switch (vipColumn)\n",
    "        {\n",
    "            case 1: return Vip1;\n",
    "            case 2: return Vip2;\n",
    "            case 3: return Vip3;\n",
    "            case 4: return Vip4;\n",
    "            case 5: return Vip5;\n",
    "            case 6: return Vip6;\n",
    "            case 7: return Vip7;\n",
    "            case 8: return Vip8;\n",
    "            default: throw new ArgumentOutOfRangeException(nameof(vipColumn), \"Invalid VIP column number\");\n",
    "        }\n",
    "    }\n",
    "}\n"
   ]
  },
  {
   "cell_type": "code",
   "execution_count": null,
   "metadata": {
    "dotnet_interactive": {
     "language": "csharp"
    },
    "polyglot_notebook": {
     "kernelName": "csharp"
    }
   },
   "outputs": [],
   "source": [
    "public class SlotElligibleStakeSetting\n",
    "{\n",
    "    public decimal StakeAmtUSDT { get; set; }\n",
    "    public decimal StakeAmtRmb { get; set; }\n",
    "    public int VIPLevel { get; set; }\n",
    "    public int TotalSpin { get; set; }\n",
    "    public string UserId { get; set; }\n",
    "    public long SpinSettingId { get; set; }\n",
    "}"
   ]
  },
  {
   "cell_type": "code",
   "execution_count": null,
   "metadata": {
    "dotnet_interactive": {
     "language": "csharp"
    },
    "polyglot_notebook": {
     "kernelName": "csharp"
    }
   },
   "outputs": [],
   "source": [
    "public class reqElligibleStakeMdl\n",
    "{\n",
    "    public List<ElligibleStakeModel> Counts { get; set; } = new List<ElligibleStakeModel>();\n",
    "\n",
    "    public List<SlotElligibleStakeSetting> SeparatedStakes { get; set; } = new List<SlotElligibleStakeSetting>();\n",
    "\n",
    "    public bool ValidateStake()\n",
    "    {\n",
    "        bool result = false;\n",
    "        result = ValidateMaxFreeSpin() && CheckAscendingOrder() && CheckElligibleStakeValue();\n",
    "        return result;\n",
    "    }\n",
    "\n",
    "    private bool ValidateMaxFreeSpin()\n",
    "    {\n",
    "        bool result = false;\n",
    "        List<List<bool>> results = new List<List<bool>>();\n",
    "        for (int i = 0; i < 8; i++)\n",
    "        {\n",
    "            int vipIndex = i + 1;\n",
    "            results.Add(Counts.Select(x => x.GetType().GetProperty($\"Vip{vipIndex}\").GetValue(x) as int? > 15).ToList());\n",
    "        }\n",
    "        result = results.Any(x => x.Contains(true)) ? false : true;\n",
    "        return result;\n",
    "    }\n",
    "\n",
    "    private bool CheckAscendingOrder()\n",
    "    {\n",
    "        int numCols = Counts.Count;\n",
    "\n",
    "        for (int col = 0; col < numCols; col++)\n",
    "        {\n",
    "            for (int row = 2; row <= 8; row++)\n",
    "            {\n",
    "                if (Counts[col].GetVIPValue(row) < Counts[col].GetVIPValue(row - 1))\n",
    "                {\n",
    "                    return false; \n",
    "                }\n",
    "            }\n",
    "\n",
    "            \n",
    "        }\n",
    "\n",
    "        for (int row = 1; row <= 8; row++)\n",
    "        {\n",
    "            for (int col = 1; col < numCols; col++)\n",
    "            {\n",
    "                if (Counts[col].GetVIPValue(row) < Counts[col-1].GetVIPValue(row))\n",
    "                {\n",
    "                    return false; \n",
    "                }\n",
    "            }\n",
    "        }\n",
    "\n",
    "        return true; \n",
    "    }\n",
    "\n",
    "    private bool CheckElligibleStakeValue()\n",
    "    {\n",
    "        bool result = false;\n",
    "        var usdtList = Counts.Select(x => x.StakeUsdt).ToList();\n",
    "        var rmbList = Counts.Select(x => x.StakeRmb).ToList();\n",
    "        result = rmbList.SequenceEqual(rmbList.OrderBy(x => x))\n",
    "                    && rmbList.Distinct().Count() == rmbList.Count\n",
    "                    && usdtList.SequenceEqual(usdtList.OrderBy(x => x))\n",
    "                    && usdtList.Distinct().Count() == usdtList.Count;\n",
    "\n",
    "        return result;\n",
    "    }\n",
    "\n",
    "    public void GetSeparatedStakeInfo(string userId)\n",
    "    {\n",
    "        foreach (var stake in Counts)\n",
    "        {\n",
    "            for (int i = 0; i < 8; i++)\n",
    "            {\n",
    "                this.SeparatedStakes.Add(new SlotElligibleStakeSetting\n",
    "                {\n",
    "                    StakeAmtRmb = stake.StakeRmb,\n",
    "                    StakeAmtUSDT = stake.StakeUsdt,\n",
    "                    VIPLevel = i + 1,\n",
    "                    TotalSpin = stake.GetVIPValue(i + 1),\n",
    "                    UserId = userId\n",
    "                });\n",
    "            }\n",
    "        }\n",
    "\n",
    "    }\n",
    "    public void SetSeparatedStakeSpinSettingId(long spinSettingId)\n",
    "    {\n",
    "        foreach (var stake in SeparatedStakes)\n",
    "        {\n",
    "            stake.SpinSettingId = spinSettingId;\n",
    "        }\n",
    "\n",
    "    }\n",
    "\n",
    "    \n",
    "}"
   ]
  },
  {
   "cell_type": "code",
   "execution_count": null,
   "metadata": {
    "dotnet_interactive": {
     "language": "csharp"
    },
    "polyglot_notebook": {
     "kernelName": "csharp"
    }
   },
   "outputs": [],
   "source": [
    "reqElligibleStakeMdl requestData = new reqElligibleStakeMdl\n",
    "{\n",
    "    Counts = new List<ElligibleStakeModel>\n",
    "    {\n",
    "        new ElligibleStakeModel { StakeUsdt = 100, StakeRmb = 500, Vip1 = 0, Vip2 = 1, Vip3 = 3, Vip4 = 4, Vip5 = 4, Vip6 = 5, Vip7 = 6, Vip8 = 7 },\n",
    "        new ElligibleStakeModel { StakeUsdt = 150, StakeRmb = 600, Vip1 = 2, Vip2 = 2, Vip3 = 3, Vip4 = 4, Vip5 = 5, Vip6 = 6, Vip7 = 7, Vip8 = 0 }\n",
    "    }\n",
    "};\n",
    "requestData.ValidateStake()"
   ]
  },
  {
   "cell_type": "code",
   "execution_count": null,
   "metadata": {
    "dotnet_interactive": {
     "language": "csharp"
    },
    "polyglot_notebook": {
     "kernelName": "csharp"
    }
   },
   "outputs": [],
   "source": [
    "Random randPrize = new Random();"
   ]
  },
  {
   "cell_type": "code",
   "execution_count": null,
   "metadata": {
    "dotnet_interactive": {
     "language": "csharp"
    },
    "polyglot_notebook": {
     "kernelName": "csharp"
    }
   },
   "outputs": [],
   "source": [
    "randPrize.Next(0, 1)"
   ]
  },
  {
   "cell_type": "code",
   "execution_count": null,
   "metadata": {
    "dotnet_interactive": {
     "language": "csharp"
    },
    "polyglot_notebook": {
     "kernelName": "csharp"
    }
   },
   "outputs": [],
   "source": [
    "using System;\n",
    "using System.Globalization;"
   ]
  },
  {
   "cell_type": "code",
   "execution_count": null,
   "metadata": {
    "dotnet_interactive": {
     "language": "csharp"
    },
    "polyglot_notebook": {
     "kernelName": "csharp"
    }
   },
   "outputs": [],
   "source": [
    "static string TimeZoneConversion(string timeString, string userTimeZone, double dataTimeZone)\n",
    "{\n",
    "    // Extract sign, hours, and minutes\n",
    "    bool isNegative = userTimeZone[0] == '-';\n",
    "    int hours = int.Parse(userTimeZone.Substring(1, 1));\n",
    "    int minutes = int.Parse(userTimeZone.Substring(3, 2));\n",
    "\n",
    "    // Calculate total minutes\n",
    "    int totalMinutes = (hours * 60 + minutes) * (isNegative ? -1 : 1);\n",
    "\n",
    "    // Create TimeSpan\n",
    "    // Parse user's time zone offset\n",
    "    TimeSpan userTimeZoneOffset = TimeSpan.FromMinutes(totalMinutes);\n",
    "\n",
    "    // Data time zone offset\n",
    "    TimeSpan dbTimeZoneOffset = TimeSpan.FromHours(dataTimeZone);\n",
    "\n",
    "    //Parse Data\n",
    "    DateTime dbTime = DateTime.Parse(timeString);\n",
    "\n",
    "    // Convert time to user's time zone\n",
    "    DateTime userTime = dbTime + (userTimeZoneOffset - dbTimeZoneOffset);\n",
    "    return userTime.ToString(\"dd/MM/yyyy HH:mm:ss\");\n",
    "}"
   ]
  },
  {
   "cell_type": "code",
   "execution_count": null,
   "metadata": {
    "dotnet_interactive": {
     "language": "csharp"
    },
    "polyglot_notebook": {
     "kernelName": "csharp"
    }
   },
   "outputs": [],
   "source": [
    "\"yyyy-MM-dd HH:mm:ss\""
   ]
  },
  {
   "cell_type": "code",
   "execution_count": null,
   "metadata": {
    "dotnet_interactive": {
     "language": "csharp"
    },
    "polyglot_notebook": {
     "kernelName": "csharp"
    }
   },
   "outputs": [],
   "source": [
    "TimeZoneConversion(a, \"+8:00\", -4)"
   ]
  },
  {
   "cell_type": "code",
   "execution_count": null,
   "metadata": {
    "dotnet_interactive": {
     "language": "csharp"
    },
    "polyglot_notebook": {
     "kernelName": "csharp"
    }
   },
   "outputs": [],
   "source": [
    "string a = \"13/03/2024 11:04:51\";\n",
    "string format = \"yyyy-MM-dd HH:mm:ss\";"
   ]
  },
  {
   "cell_type": "code",
   "execution_count": null,
   "metadata": {
    "dotnet_interactive": {
     "language": "csharp"
    },
    "polyglot_notebook": {
     "kernelName": "csharp"
    }
   },
   "outputs": [],
   "source": [
    "a = DateTime.ParseExact(a, format, CultureInfo.InvariantCulture).ToString()"
   ]
  },
  {
   "cell_type": "code",
   "execution_count": null,
   "metadata": {
    "dotnet_interactive": {
     "language": "csharp"
    },
    "polyglot_notebook": {
     "kernelName": "csharp"
    }
   },
   "outputs": [],
   "source": [
    "DateTime.Parse(a)"
   ]
  },
  {
   "cell_type": "code",
   "execution_count": 1,
   "metadata": {
    "dotnet_interactive": {
     "language": "csharp"
    },
    "polyglot_notebook": {
     "kernelName": "csharp"
    }
   },
   "outputs": [],
   "source": [
    "using System;\n",
    "using System.Collections.Generic;\n",
    "using System.Reflection;\n",
    "// Define the Object class\n",
    "public class MyObject {\n",
    "    // Auto-implemented properties\n",
    "    public int Id { get; set; }\n",
    "    public string Name { get; set; }\n",
    "\n",
    "    // Constructor\n",
    "    public MyObject(int id, string name) {\n",
    "        Id = id;\n",
    "        Name = name;\n",
    "    }\n",
    "\n",
    "    // Method to display object information\n",
    "    public void DisplayInfo() {\n",
    "        Console.WriteLine($\"Id: {Id}, Name: {Name}\");\n",
    "    }\n",
    "    public Dictionary<int, string> ToDictionary() {\n",
    "        Dictionary<int, string> dict = new Dictionary<int, string>();\n",
    "        dict[Id] = Name;\n",
    "        return dict;\n",
    "    }\n",
    "    public Dictionary<string, object> ToDictionary2() {\n",
    "        Dictionary<string, object> dict = new Dictionary<string, object>();\n",
    "        PropertyInfo[] properties = GetType().GetProperties(BindingFlags.Public | BindingFlags.Instance);\n",
    "        foreach (PropertyInfo property in properties) {\n",
    "            dict[property.Name] = property.GetValue(this);\n",
    "        }\n",
    "        return dict;\n",
    "    }\n",
    "}"
   ]
  },
  {
   "cell_type": "code",
   "execution_count": 2,
   "metadata": {
    "dotnet_interactive": {
     "language": "csharp"
    },
    "polyglot_notebook": {
     "kernelName": "csharp"
    }
   },
   "outputs": [
    {
     "name": "stdout",
     "output_type": "stream",
     "text": [
      "Id: 1, Name: Example\r\n"
     ]
    }
   ],
   "source": [
    "MyObject obj = new MyObject(1, \"Example\");\n",
    "obj.DisplayInfo();"
   ]
  },
  {
   "cell_type": "code",
   "execution_count": null,
   "metadata": {
    "dotnet_interactive": {
     "language": "csharp"
    },
    "polyglot_notebook": {
     "kernelName": "csharp"
    }
   },
   "outputs": [],
   "source": [
    "Dictionary<int, string> objDict = obj.ToDictionary();"
   ]
  },
  {
   "cell_type": "code",
   "execution_count": null,
   "metadata": {
    "dotnet_interactive": {
     "language": "csharp"
    },
    "polyglot_notebook": {
     "kernelName": "csharp"
    }
   },
   "outputs": [],
   "source": [
    "objDict \n"
   ]
  },
  {
   "cell_type": "code",
   "execution_count": null,
   "metadata": {
    "dotnet_interactive": {
     "language": "csharp"
    },
    "polyglot_notebook": {
     "kernelName": "csharp"
    }
   },
   "outputs": [],
   "source": [
    "Dictionary<string, object> objDict = obj.ToDictionary2();"
   ]
  },
  {
   "cell_type": "code",
   "execution_count": null,
   "metadata": {
    "dotnet_interactive": {
     "language": "csharp"
    },
    "polyglot_notebook": {
     "kernelName": "csharp"
    }
   },
   "outputs": [],
   "source": [
    "var a = objDict.Values.ToList<object>();\n",
    "a[0].GetType()"
   ]
  },
  {
   "cell_type": "code",
   "execution_count": null,
   "metadata": {
    "dotnet_interactive": {
     "language": "csharp"
    },
    "polyglot_notebook": {
     "kernelName": "csharp"
    }
   },
   "outputs": [],
   "source": [
    "List<MyObject> list = new List<MyObject>();"
   ]
  },
  {
   "cell_type": "code",
   "execution_count": null,
   "metadata": {
    "dotnet_interactive": {
     "language": "csharp"
    },
    "polyglot_notebook": {
     "kernelName": "csharp"
    }
   },
   "outputs": [],
   "source": [
    "MyObject obj2 = new MyObject(12, \"Example2\");\n",
    "MyObject obj3 = new MyObject(13, \"Example3\");\n",
    "MyObject obj4 = new MyObject(14, \"Example4\");\n",
    "MyObject obj5 = new MyObject(15, \"Example5\");\n"
   ]
  },
  {
   "cell_type": "code",
   "execution_count": null,
   "metadata": {
    "dotnet_interactive": {
     "language": "csharp"
    },
    "polyglot_notebook": {
     "kernelName": "csharp"
    }
   },
   "outputs": [],
   "source": [
    "using System;"
   ]
  },
  {
   "cell_type": "code",
   "execution_count": null,
   "metadata": {
    "dotnet_interactive": {
     "language": "csharp"
    },
    "polyglot_notebook": {
     "kernelName": "csharp"
    }
   },
   "outputs": [],
   "source": [
    "int intValue = 42;\n",
    "object boxedInt = intValue; // Boxing"
   ]
  },
  {
   "cell_type": "code",
   "execution_count": null,
   "metadata": {
    "dotnet_interactive": {
     "language": "csharp"
    },
    "polyglot_notebook": {
     "kernelName": "csharp"
    }
   },
   "outputs": [],
   "source": [
    "intValue"
   ]
  },
  {
   "cell_type": "code",
   "execution_count": null,
   "metadata": {
    "dotnet_interactive": {
     "language": "csharp"
    },
    "polyglot_notebook": {
     "kernelName": "csharp"
    }
   },
   "outputs": [],
   "source": [
    "boxedInt"
   ]
  },
  {
   "cell_type": "code",
   "execution_count": null,
   "metadata": {
    "dotnet_interactive": {
     "language": "csharp"
    },
    "polyglot_notebook": {
     "kernelName": "csharp"
    }
   },
   "outputs": [],
   "source": [
    "string sign;\n",
    "nameof(sign)"
   ]
  },
  {
   "cell_type": "code",
   "execution_count": null,
   "metadata": {
    "dotnet_interactive": {
     "language": "csharp"
    },
    "polyglot_notebook": {
     "kernelName": "csharp"
    }
   },
   "outputs": [],
   "source": [
    "Dictionary<string, string> dict;\n"
   ]
  },
  {
   "cell_type": "code",
   "execution_count": null,
   "metadata": {
    "dotnet_interactive": {
     "language": "csharp"
    },
    "polyglot_notebook": {
     "kernelName": "csharp"
    }
   },
   "outputs": [],
   "source": [
    "using Newtonsoft.Json;"
   ]
  },
  {
   "cell_type": "code",
   "execution_count": null,
   "metadata": {
    "dotnet_interactive": {
     "language": "csharp"
    },
    "polyglot_notebook": {
     "kernelName": "csharp"
    }
   },
   "outputs": [],
   "source": [
    "string a = JsonConvert.SerializeObject(obj);\n",
    "a"
   ]
  },
  {
   "cell_type": "code",
   "execution_count": null,
   "metadata": {
    "dotnet_interactive": {
     "language": "csharp"
    },
    "polyglot_notebook": {
     "kernelName": "csharp"
    }
   },
   "outputs": [],
   "source": [
    "JsonConvert.DeserializeObject<dynamic>(a)"
   ]
  },
  {
   "cell_type": "code",
   "execution_count": null,
   "metadata": {
    "dotnet_interactive": {
     "language": "csharp"
    },
    "polyglot_notebook": {
     "kernelName": "csharp"
    }
   },
   "outputs": [],
   "source": [
    "a.ToObject<Dictionary<string, object>>()"
   ]
  },
  {
   "cell_type": "code",
   "execution_count": null,
   "metadata": {
    "dotnet_interactive": {
     "language": "csharp"
    },
    "polyglot_notebook": {
     "kernelName": "csharp"
    }
   },
   "outputs": [],
   "source": [
    "dynamic jsonObj = DeserializeJson(a);"
   ]
  },
  {
   "cell_type": "code",
   "execution_count": null,
   "metadata": {
    "dotnet_interactive": {
     "language": "csharp"
    },
    "polyglot_notebook": {
     "kernelName": "csharp"
    }
   },
   "outputs": [],
   "source": [
    "string jsonString = \"{\\\"name\\\": \\\"John\\\", \\\"age\\\": 30, \\\"isStudent\\\": true}\";\n",
    "\n",
    "dynamic jsonObject = System.Text.Json.JsonSerializer.Deserialize<dynamic>(jsonString);\n"
   ]
  },
  {
   "cell_type": "code",
   "execution_count": null,
   "metadata": {
    "dotnet_interactive": {
     "language": "csharp"
    },
    "polyglot_notebook": {
     "kernelName": "csharp"
    }
   },
   "outputs": [],
   "source": [
    "using System.Text.Json;"
   ]
  },
  {
   "cell_type": "code",
   "execution_count": null,
   "metadata": {
    "dotnet_interactive": {
     "language": "csharp"
    },
    "polyglot_notebook": {
     "kernelName": "csharp"
    }
   },
   "outputs": [],
   "source": [
    "jsonObject"
   ]
  },
  {
   "cell_type": "code",
   "execution_count": null,
   "metadata": {
    "dotnet_interactive": {
     "language": "csharp"
    },
    "polyglot_notebook": {
     "kernelName": "csharp"
    }
   },
   "outputs": [],
   "source": [
    "foreach (var property in jsonObject.EnumerateObject())\n",
    "{\n",
    "    Console.WriteLine($\"{property.Name}: {GetPropertyStringValue(property.Value)}\");\n",
    "}"
   ]
  },
  {
   "cell_type": "code",
   "execution_count": null,
   "metadata": {
    "dotnet_interactive": {
     "language": "csharp"
    },
    "polyglot_notebook": {
     "kernelName": "csharp"
    }
   },
   "outputs": [],
   "source": [
    "static string GetPropertyStringValue(JsonElement element)\n",
    "    {\n",
    "        return element.ValueKind switch\n",
    "        {\n",
    "            JsonValueKind.String => element.GetString(),\n",
    "            JsonValueKind.Number => element.GetDecimal().ToString(),\n",
    "            JsonValueKind.True => \"True\",\n",
    "            JsonValueKind.False => \"False\",\n",
    "            _ => \"Unknown Type\"\n",
    "        };\n",
    "    }"
   ]
  },
  {
   "cell_type": "code",
   "execution_count": null,
   "metadata": {
    "dotnet_interactive": {
     "language": "csharp"
    },
    "polyglot_notebook": {
     "kernelName": "csharp"
    }
   },
   "outputs": [],
   "source": [
    "using System;\n",
    "using System.Text.Json;"
   ]
  },
  {
   "cell_type": "code",
   "execution_count": null,
   "metadata": {
    "dotnet_interactive": {
     "language": "csharp"
    },
    "polyglot_notebook": {
     "kernelName": "csharp"
    }
   },
   "outputs": [],
   "source": [
    "string jsonString = \"{\\\"name\\\": \\\"John\\\", \\\"age\\\": 30, \\\"isStudent\\\": true}\";\n",
    "\n",
    "dynamic jsonObject = JsonSerializer.Deserialize<dynamic>(jsonString);\n",
    "\n",
    "// Accessing the \"name\" property\n",
    "string name = jsonObject.name;\n",
    "\n",
    "Console.WriteLine(\"Name: \" + name);"
   ]
  },
  {
   "cell_type": "code",
   "execution_count": null,
   "metadata": {
    "dotnet_interactive": {
     "language": "csharp"
    },
    "polyglot_notebook": {
     "kernelName": "csharp"
    }
   },
   "outputs": [],
   "source": [
    "string jsonString = \"{\\\"name\\\": \\\"John\\\", \\\"age\\\": 30, \\\"isStudent\\\": true}\";\n",
    "\n",
    "// Parse the JSON string into a JsonDocument\n",
    "JsonDocument jsonObject = JsonDocument.Parse(jsonString);\n",
    "\n",
    "// Accessing the \"name\" property\n",
    "JsonElement root = jsonObject.RootElement;\n",
    "string name = root.GetProperty(\"name\").GetString();\n",
    "\n",
    "Console.WriteLine(\"Name: \" + name);"
   ]
  },
  {
   "cell_type": "code",
   "execution_count": null,
   "metadata": {
    "dotnet_interactive": {
     "language": "csharp"
    },
    "polyglot_notebook": {
     "kernelName": "csharp"
    }
   },
   "outputs": [],
   "source": [
    "int age = root.GetProperty(\"age\").GetInt32();\n",
    "Console.WriteLine(\"Age: \" + age);\n",
    "\n",
    "// Accessing the \"isStudent\" property and retrieving its value\n",
    "bool isStudent = root.GetProperty(\"isStudent\").GetBoolean();\n",
    "Console.WriteLine(\"Is Student: \" + isStudent);"
   ]
  },
  {
   "cell_type": "code",
   "execution_count": null,
   "metadata": {
    "dotnet_interactive": {
     "language": "csharp"
    },
    "polyglot_notebook": {
     "kernelName": "csharp"
    }
   },
   "outputs": [],
   "source": [
    "using Newtonsoft.Json;\n",
    "using System;\n"
   ]
  },
  {
   "cell_type": "code",
   "execution_count": null,
   "metadata": {
    "dotnet_interactive": {
     "language": "csharp"
    },
    "polyglot_notebook": {
     "kernelName": "csharp"
    }
   },
   "outputs": [],
   "source": [
    "static dynamic DeserializeDynamicObject(string json)\n",
    "{\n",
    "    return JsonConvert.DeserializeObject<dynamic>(json);\n",
    "}"
   ]
  },
  {
   "cell_type": "markdown",
   "metadata": {},
   "source": []
  },
  {
   "cell_type": "code",
   "execution_count": null,
   "metadata": {
    "dotnet_interactive": {
     "language": "csharp"
    },
    "polyglot_notebook": {
     "kernelName": "csharp"
    }
   },
   "outputs": [],
   "source": [
    "string unknownFormatString = \"{\\\"name\\\": \\\"John\\\", \\\"age\\\": 30, \\\"city\\\": \\\"New York\\\"}\";\n",
    "\n",
    "dynamic dynamicObject = DeserializeDynamicObject(unknownFormatString);\n",
    "\n",
    "Console.WriteLine($\"Name: {dynamicObject.name}\");\n",
    "Console.WriteLine($\"Age: {dynamicObject.age}\");\n",
    "Console.WriteLine($\"City: {dynamicObject.city}\");"
   ]
  },
  {
   "cell_type": "code",
   "execution_count": null,
   "metadata": {
    "dotnet_interactive": {
     "language": "csharp"
    },
    "polyglot_notebook": {
     "kernelName": "csharp"
    }
   },
   "outputs": [],
   "source": [
    "dynamicObject[name]"
   ]
  },
  {
   "cell_type": "code",
   "execution_count": null,
   "metadata": {
    "dotnet_interactive": {
     "language": "csharp"
    },
    "polyglot_notebook": {
     "kernelName": "csharp"
    }
   },
   "outputs": [],
   "source": [
    "dynamicObject.city.ToString()"
   ]
  },
  {
   "cell_type": "code",
   "execution_count": null,
   "metadata": {
    "dotnet_interactive": {
     "language": "csharp"
    },
    "polyglot_notebook": {
     "kernelName": "csharp"
    }
   },
   "outputs": [],
   "source": []
  },
  {
   "cell_type": "code",
   "execution_count": null,
   "metadata": {
    "dotnet_interactive": {
     "language": "csharp"
    },
    "polyglot_notebook": {
     "kernelName": "csharp"
    }
   },
   "outputs": [],
   "source": [
    "string unknownFormatString = \"{\\\"name\\\": \\\"John\\\", \\\"age\\\": 30, \\\"city\\\": \\\"New York\\\"}\";\n",
    "\n",
    "dynamic dynamicObject = DeserializeDynamicObject(unknownFormatString);\n",
    "\n",
    "Console.WriteLine($\"Name: {dynamicObject[\"name\"]}\");\n",
    "Console.WriteLine($\"Age: {dynamicObject[\"age\"]}\");\n",
    "Console.WriteLine($\"City: {dynamicObject[\"city\"]}\");"
   ]
  },
  {
   "cell_type": "code",
   "execution_count": null,
   "metadata": {
    "dotnet_interactive": {
     "language": "csharp"
    },
    "polyglot_notebook": {
     "kernelName": "csharp"
    }
   },
   "outputs": [],
   "source": [
    "dynamicObject[\"name\"].ToString()"
   ]
  },
  {
   "cell_type": "code",
   "execution_count": null,
   "metadata": {
    "dotnet_interactive": {
     "language": "csharp"
    },
    "polyglot_notebook": {
     "kernelName": "csharp"
    }
   },
   "outputs": [],
   "source": [
    "var (_, _, _, pop1, _, pop2) = QueryCityDataForYears(\"New York City\", 1960, 2010);\n",
    "\n",
    "Console.WriteLine($\"Population change, 1960 to 2010: {pop2 - pop1:N0}\");\n",
    "\n",
    "static (string, double, int, int, int, int) QueryCityDataForYears(string name, int year1, int year2)\n",
    "{\n",
    "    int population1 = 0, population2 = 0;\n",
    "    double area = 0;\n",
    "\n",
    "    if (name == \"New York City\")\n",
    "    {\n",
    "        area = 468.48;\n",
    "        if (year1 == 1960)\n",
    "        {\n",
    "            population1 = 7781984;\n",
    "        }\n",
    "        if (year2 == 2010)\n",
    "        {\n",
    "            population2 = 8175133;\n",
    "        }\n",
    "        return (name, area, year1, population1, year2, population2);\n",
    "    }\n",
    "\n",
    "    return (\"\", 0, 0, 0, 0, 0);\n",
    "}\n",
    "// The example displays the following output:\n",
    "//      Population change, 1960 to 2010: 393,149"
   ]
  },
  {
   "cell_type": "code",
   "execution_count": null,
   "metadata": {
    "dotnet_interactive": {
     "language": "csharp"
    },
    "polyglot_notebook": {
     "kernelName": "csharp"
    }
   },
   "outputs": [],
   "source": [
    "string message = \"kEyNaME\";\n",
    "char.ToUpper(message.ToLower()[0]) + message.ToLower().Substring(1)"
   ]
  },
  {
   "cell_type": "code",
   "execution_count": null,
   "metadata": {
    "dotnet_interactive": {
     "language": "csharp"
    },
    "polyglot_notebook": {
     "kernelName": "csharp"
    }
   },
   "outputs": [],
   "source": [
    "Dictionary<string, int> myDictionary = new Dictionary<string, int>();\n",
    "\n",
    "// Populate the dictionary with some data\n",
    "myDictionary.Add(\"apple\", 10);\n",
    "myDictionary.Add(\"cherrys\", 14);\n",
    "myDictionary.Add(\"banana\", 20);\n",
    "myDictionary.Add(\"cherry\", 5);\n",
    "myDictionary.Add(\"orange\", 15);\n",
    "\n",
    "// Order the dictionary by key name in ascending order\n",
    "var orderedByKeyAscending = myDictionary.OrderBy(pair => pair.Key);\n",
    "\n",
    "Console.WriteLine(\"Dictionary ordered by key name in ascending order:\");\n",
    "foreach (var pair in orderedByKeyAscending)\n",
    "{\n",
    "    Console.WriteLine($\"Key: {pair.Key}, Value: {pair.Value}\");\n",
    "}\n",
    "\n",
    "// Order the dictionary by key name in descending order\n",
    "var orderedByKeyDescending = myDictionary.OrderByDescending(pair => pair.Key);\n",
    "\n",
    "Console.WriteLine(\"\\nDictionary ordered by key name in descending order:\");\n",
    "foreach (var pair in orderedByKeyDescending)\n",
    "{\n",
    "    Console.WriteLine($\"Key: {pair.Key}, Value: {pair.Value}\");\n",
    "}"
   ]
  },
  {
   "cell_type": "code",
   "execution_count": null,
   "metadata": {
    "dotnet_interactive": {
     "language": "csharp"
    },
    "polyglot_notebook": {
     "kernelName": "csharp"
    }
   },
   "outputs": [],
   "source": [
    "orderedByKeyAscending"
   ]
  },
  {
   "cell_type": "code",
   "execution_count": null,
   "metadata": {
    "dotnet_interactive": {
     "language": "csharp"
    },
    "polyglot_notebook": {
     "kernelName": "csharp"
    }
   },
   "outputs": [],
   "source": [
    "myDictionary "
   ]
  },
  {
   "cell_type": "code",
   "execution_count": null,
   "metadata": {
    "dotnet_interactive": {
     "language": "csharp"
    },
    "polyglot_notebook": {
     "kernelName": "csharp"
    }
   },
   "outputs": [],
   "source": [
    "myDictionary.OrderBy(pair => pair.Value)"
   ]
  },
  {
   "cell_type": "code",
   "execution_count": null,
   "metadata": {
    "dotnet_interactive": {
     "language": "csharp"
    },
    "polyglot_notebook": {
     "kernelName": "csharp"
    }
   },
   "outputs": [],
   "source": [
    "var a = myDictionary.OrderBy(pair => pair.Value).ToDictionary(kvp => kvp.Key, kvp => kvp.Value);"
   ]
  },
  {
   "cell_type": "code",
   "execution_count": null,
   "metadata": {
    "dotnet_interactive": {
     "language": "csharp"
    },
    "polyglot_notebook": {
     "kernelName": "csharp"
    }
   },
   "outputs": [],
   "source": []
  },
  {
   "cell_type": "code",
   "execution_count": null,
   "metadata": {
    "dotnet_interactive": {
     "language": "csharp"
    },
    "polyglot_notebook": {
     "kernelName": "csharp"
    }
   },
   "outputs": [],
   "source": [
    "a[\"cherry\"]"
   ]
  },
  {
   "cell_type": "code",
   "execution_count": null,
   "metadata": {
    "dotnet_interactive": {
     "language": "csharp"
    },
    "polyglot_notebook": {
     "kernelName": "csharp"
    }
   },
   "outputs": [],
   "source": [
    "a"
   ]
  },
  {
   "cell_type": "code",
   "execution_count": 3,
   "metadata": {
    "dotnet_interactive": {
     "language": "csharp"
    },
    "polyglot_notebook": {
     "kernelName": "csharp"
    }
   },
   "outputs": [
    {
     "data": {
      "text/html": [
       "<details open=\"open\" class=\"dni-treeview\"><summary><span class=\"dni-code-hint\"><code>Submission#2+MyObject</code></span></summary><div><table><thead><tr></tr></thead><tbody><tr><td>Id</td><td><div class=\"dni-plaintext\"><pre>1</pre></div></td></tr><tr><td>Name</td><td><div class=\"dni-plaintext\"><pre>Example</pre></div></td></tr></tbody></table></div></details><style>\r\n",
       ".dni-code-hint {\r\n",
       "    font-style: italic;\r\n",
       "    overflow: hidden;\r\n",
       "    white-space: nowrap;\r\n",
       "}\r\n",
       ".dni-treeview {\r\n",
       "    white-space: nowrap;\r\n",
       "}\r\n",
       ".dni-treeview td {\r\n",
       "    vertical-align: top;\r\n",
       "    text-align: start;\r\n",
       "}\r\n",
       "details.dni-treeview {\r\n",
       "    padding-left: 1em;\r\n",
       "}\r\n",
       "table td {\r\n",
       "    text-align: start;\r\n",
       "}\r\n",
       "table tr { \r\n",
       "    vertical-align: top; \r\n",
       "    margin: 0em 0px;\r\n",
       "}\r\n",
       "table tr td pre \r\n",
       "{ \r\n",
       "    vertical-align: top !important; \r\n",
       "    margin: 0em 0px !important;\r\n",
       "} \r\n",
       "table th {\r\n",
       "    text-align: start;\r\n",
       "}\r\n",
       "</style>"
      ]
     },
     "metadata": {},
     "output_type": "display_data"
    }
   ],
   "source": [
    "obj"
   ]
  },
  {
   "cell_type": "code",
   "execution_count": 40,
   "metadata": {
    "dotnet_interactive": {
     "language": "csharp"
    },
    "polyglot_notebook": {
     "kernelName": "csharp"
    }
   },
   "outputs": [],
   "source": [
    "public Dictionary<string, T> _GenerateDictionary<T>(\n",
    "            MyObject _obj)\n",
    "{\n",
    "    Console.WriteLine(typeof(T).Name);\n",
    "    Dictionary<string, T> dict = new Dictionary<string, T>();\n",
    "    dict.Add(_obj.Name, (T)Convert.ChangeType(obj.Id, typeof(T)));\n",
    "    \n",
    "    return dict;\n",
    "\n",
    "\n",
    "    \n",
    "}"
   ]
  },
  {
   "cell_type": "code",
   "execution_count": 41,
   "metadata": {
    "dotnet_interactive": {
     "language": "csharp"
    },
    "polyglot_notebook": {
     "kernelName": "csharp"
    }
   },
   "outputs": [
    {
     "ename": "Error",
     "evalue": "(1,8): error CS0246: The type or namespace name 'a' could not be found (are you missing a using directive or an assembly reference?)\r\n(1,9): error CS0270: Array size cannot be specified in a variable declaration (try initializing with a 'new' expression)",
     "output_type": "error",
     "traceback": [
      "(1,8): error CS0246: The type or namespace name 'a' could not be found (are you missing a using directive or an assembly reference?)\r\n",
      "(1,9): error CS0270: Array size cannot be specified in a variable declaration (try initializing with a 'new' expression)"
     ]
    }
   ],
   "source": [
    "typeof(a[\"Example\"])"
   ]
  },
  {
   "cell_type": "code",
   "execution_count": 42,
   "metadata": {
    "dotnet_interactive": {
     "language": "csharp"
    },
    "polyglot_notebook": {
     "kernelName": "csharp"
    }
   },
   "outputs": [
    {
     "data": {
      "text/plain": [
       "1"
      ]
     },
     "metadata": {},
     "output_type": "display_data"
    }
   ],
   "source": [
    "(object)obj.Id.ToString()"
   ]
  },
  {
   "cell_type": "code",
   "execution_count": 43,
   "metadata": {
    "dotnet_interactive": {
     "language": "csharp"
    },
    "polyglot_notebook": {
     "kernelName": "csharp"
    }
   },
   "outputs": [
    {
     "name": "stdout",
     "output_type": "stream",
     "text": [
      "String\r\n"
     ]
    }
   ],
   "source": [
    "var a = _GenerateDictionary<string>(obj);"
   ]
  },
  {
   "cell_type": "code",
   "execution_count": 44,
   "metadata": {
    "dotnet_interactive": {
     "language": "csharp"
    },
    "polyglot_notebook": {
     "kernelName": "csharp"
    }
   },
   "outputs": [],
   "source": [
    "var b= a[\"Example\"];"
   ]
  },
  {
   "cell_type": "code",
   "execution_count": 45,
   "metadata": {
    "dotnet_interactive": {
     "language": "csharp"
    },
    "polyglot_notebook": {
     "kernelName": "csharp"
    }
   },
   "outputs": [
    {
     "data": {
      "text/html": [
       "<span><a href=\"https://docs.microsoft.com/dotnet/api/system.string?view=net-7.0\">System.String</a></span>"
      ]
     },
     "metadata": {},
     "output_type": "display_data"
    }
   ],
   "source": [
    "b.GetType()"
   ]
  },
  {
   "cell_type": "code",
   "execution_count": 1,
   "metadata": {
    "dotnet_interactive": {
     "language": "csharp"
    },
    "polyglot_notebook": {
     "kernelName": "csharp"
    }
   },
   "outputs": [],
   "source": [
    "public static Type GetTypeFromInput(string input)\n",
    "        {\n",
    "            Dictionary<string, Type> typeMappings = new Dictionary<string, Type>\n",
    "            {\n",
    "                { \"int\", typeof(int) },\n",
    "                { \"string\", typeof(string) },\n",
    "                { \"double\", typeof(double) },\n",
    "                { \"long\", typeof(long) },\n",
    "                { \"float\", typeof(float) },\n",
    "                { \"decimal\", typeof(decimal) },\n",
    "                { \"bool\", typeof(bool) },\n",
    "                { \"char\", typeof(char) },\n",
    "                { \"byte\", typeof(byte) },\n",
    "                { \"Array\", typeof(Array) },\n",
    "                { \"DateTime\", typeof(DateTime) },\n",
    "                { \"TimeSpan\", typeof(TimeSpan) },\n",
    "                { \"object\", typeof(object) }\n",
    "            };\n",
    "\n",
    "            if (typeMappings.ContainsKey(input))\n",
    "            {\n",
    "                return typeMappings[input];\n",
    "            }\n",
    "            else\n",
    "            {\n",
    "                throw new ArgumentException($\"Type mapping not found for input: {input}\");\n",
    "            }\n",
    "        }"
   ]
  },
  {
   "cell_type": "code",
   "execution_count": 33,
   "metadata": {
    "dotnet_interactive": {
     "language": "csharp"
    },
    "polyglot_notebook": {
     "kernelName": "csharp"
    }
   },
   "outputs": [],
   "source": [
    "var a = \"1\";\n",
    "var c = GetTypeFromInput(\"decimal\");\n",
    "\n"
   ]
  },
  {
   "cell_type": "code",
   "execution_count": 19,
   "metadata": {
    "dotnet_interactive": {
     "language": "csharp"
    },
    "polyglot_notebook": {
     "kernelName": "csharp"
    }
   },
   "outputs": [],
   "source": [
    "\n"
   ]
  },
  {
   "cell_type": "code",
   "execution_count": 13,
   "metadata": {
    "dotnet_interactive": {
     "language": "csharp"
    },
    "polyglot_notebook": {
     "kernelName": "csharp"
    }
   },
   "outputs": [],
   "source": [
    "public static object ConvertValue(string value, Type targetType)\n",
    "{\n",
    "    return Convert.ChangeType(value, targetType);\n",
    "}"
   ]
  },
  {
   "cell_type": "code",
   "execution_count": 46,
   "metadata": {
    "dotnet_interactive": {
     "language": "csharp"
    },
    "polyglot_notebook": {
     "kernelName": "csharp"
    }
   },
   "outputs": [],
   "source": [
    "var b = ConvertValue(a, c);\n",
    "var e = GetTypeFromInput(\"decimal\");\n",
    "\n",
    "var d = ConvertValue(b.ToString(), e);"
   ]
  },
  {
   "cell_type": "code",
   "execution_count": 67,
   "metadata": {
    "dotnet_interactive": {
     "language": "csharp"
    },
    "polyglot_notebook": {
     "kernelName": "csharp"
    }
   },
   "outputs": [
    {
     "data": {
      "text/html": [
       "<span><a href=\"https://docs.microsoft.com/dotnet/api/system.decimal?view=net-7.0\">System.Decimal</a></span>"
      ]
     },
     "metadata": {},
     "output_type": "display_data"
    }
   ],
   "source": [
    "d.GetType()"
   ]
  },
  {
   "cell_type": "code",
   "execution_count": 60,
   "metadata": {
    "dotnet_interactive": {
     "language": "csharp"
    },
    "polyglot_notebook": {
     "kernelName": "csharp"
    }
   },
   "outputs": [
    {
     "name": "stdout",
     "output_type": "stream",
     "text": [
      "0.00\r\n"
     ]
    }
   ],
   "source": [
    "Console.WriteLine(d)"
   ]
  },
  {
   "cell_type": "code",
   "execution_count": 58,
   "metadata": {
    "dotnet_interactive": {
     "language": "csharp"
    },
    "polyglot_notebook": {
     "kernelName": "csharp"
    }
   },
   "outputs": [
    {
     "data": {
      "text/plain": [
       "0.000"
      ]
     },
     "metadata": {},
     "output_type": "display_data"
    }
   ],
   "source": [
    "d.ToString(\"F\")"
   ]
  },
  {
   "cell_type": "code",
   "execution_count": 57,
   "metadata": {
    "dotnet_interactive": {
     "language": "csharp"
    },
    "polyglot_notebook": {
     "kernelName": "csharp"
    }
   },
   "outputs": [],
   "source": [
    "decimal d = 0.00m;"
   ]
  },
  {
   "cell_type": "code",
   "execution_count": 63,
   "metadata": {
    "dotnet_interactive": {
     "language": "csharp"
    },
    "polyglot_notebook": {
     "kernelName": "csharp"
    }
   },
   "outputs": [],
   "source": [
    "var x = \"1.01\";"
   ]
  },
  {
   "cell_type": "code",
   "execution_count": 64,
   "metadata": {
    "dotnet_interactive": {
     "language": "csharp"
    },
    "polyglot_notebook": {
     "kernelName": "csharp"
    }
   },
   "outputs": [],
   "source": [
    "var e = GetTypeFromInput(\"decimal\");"
   ]
  },
  {
   "cell_type": "code",
   "execution_count": 65,
   "metadata": {
    "dotnet_interactive": {
     "language": "csharp"
    },
    "polyglot_notebook": {
     "kernelName": "csharp"
    }
   },
   "outputs": [],
   "source": [
    "var d = ConvertValue(x, e);"
   ]
  },
  {
   "cell_type": "code",
   "execution_count": 68,
   "metadata": {
    "dotnet_interactive": {
     "language": "csharp"
    },
    "polyglot_notebook": {
     "kernelName": "csharp"
    }
   },
   "outputs": [
    {
     "ename": "Error",
     "evalue": "(1,3): error CS1501: No overload for method 'ToString' takes 1 arguments",
     "output_type": "error",
     "traceback": [
      "(1,3): error CS1501: No overload for method 'ToString' takes 1 arguments"
     ]
    }
   ],
   "source": [
    "d.ToString(\"F\")"
   ]
  },
  {
   "cell_type": "code",
   "execution_count": null,
   "metadata": {
    "dotnet_interactive": {
     "language": "csharp"
    },
    "polyglot_notebook": {
     "kernelName": "csharp"
    }
   },
   "outputs": [],
   "source": []
  }
 ],
 "metadata": {
  "kernelspec": {
   "display_name": ".NET (C#)",
   "language": "C#",
   "name": ".net-csharp"
  },
  "language_info": {
   "name": "polyglot-notebook"
  },
  "polyglot_notebook": {
   "kernelInfo": {
    "defaultKernelName": "csharp",
    "items": [
     {
      "aliases": [],
      "name": "csharp"
     }
    ]
   }
  }
 },
 "nbformat": 4,
 "nbformat_minor": 2
}
