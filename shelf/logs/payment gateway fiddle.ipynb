{
 "cells": [
  {
   "cell_type": "code",
   "execution_count": 10,
   "metadata": {
    "dotnet_interactive": {
     "language": "csharp"
    },
    "polyglot_notebook": {
     "kernelName": "csharp"
    }
   },
   "outputs": [],
   "source": [
    "using Newtonsoft.Json;\n",
    "using System;"
   ]
  },
  {
   "cell_type": "code",
   "execution_count": 16,
   "metadata": {
    "dotnet_interactive": {
     "language": "csharp"
    },
    "polyglot_notebook": {
     "kernelName": "csharp"
    }
   },
   "outputs": [],
   "source": [
    "public class request\n",
    "{\n",
    "    public string mch_id {get; set;}\n",
    "    public int ptype {get; set;}\n",
    "    public string order_sn {get; set;}\n",
    "    public double money {get; set;}\n",
    "    public int bankname {get; set;}\n",
    "    public string accountname {get; set;}\n",
    "    public string cardnumber {get; set;}\n",
    "    public string format {get; set;}\n",
    "    public string notify_url {get; set;}\n",
    "    public int time {get; set;}\n",
    "    //public string sign {get; set;}\n",
    "}"
   ]
  },
  {
   "cell_type": "code",
   "execution_count": 13,
   "metadata": {
    "dotnet_interactive": {
     "language": "csharp"
    },
    "polyglot_notebook": {
     "kernelName": "csharp"
    }
   },
   "outputs": [],
   "source": [
    "//var a = @\"{'mch_id': 'NIu8','ptype': 3,'order_sn': 'qweqwer','money': 100,'bankname': 3,'accountname': 'qweqwe','cardnumber': '123123','format': 'json','notify_url': 'werwerw','time': 123131,'sign': ''}\";\n",
    "var b = @\"{'mch_id': 'NIu8','ptype': 3,'order_sn': 'qweqwer','money': 100,'bankname': 3,'accountname': 'qweqwe','cardnumber': '123123','format': 'json','notify_url': 'werwerw','time': 123131}\";"
   ]
  },
  {
   "cell_type": "code",
   "execution_count": 17,
   "metadata": {
    "dotnet_interactive": {
     "language": "csharp"
    },
    "polyglot_notebook": {
     "kernelName": "csharp"
    }
   },
   "outputs": [],
   "source": [
    "var c = JsonConvert.DeserializeObject<request>(b);"
   ]
  },
  {
   "cell_type": "code",
   "execution_count": 18,
   "metadata": {
    "dotnet_interactive": {
     "language": "csharp"
    },
    "polyglot_notebook": {
     "kernelName": "csharp"
    }
   },
   "outputs": [
    {
     "data": {
      "text/html": [
       "<details open=\"open\" class=\"dni-treeview\"><summary><span class=\"dni-code-hint\"><code>Submission#17+request</code></span></summary><div><table><thead><tr></tr></thead><tbody><tr><td>mch_id</td><td><div class=\"dni-plaintext\"><pre>NIu8</pre></div></td></tr><tr><td>ptype</td><td><div class=\"dni-plaintext\"><pre>3</pre></div></td></tr><tr><td>order_sn</td><td><div class=\"dni-plaintext\"><pre>qweqwer</pre></div></td></tr><tr><td>money</td><td><div class=\"dni-plaintext\"><pre>100</pre></div></td></tr><tr><td>bankname</td><td><div class=\"dni-plaintext\"><pre>3</pre></div></td></tr><tr><td>accountname</td><td><div class=\"dni-plaintext\"><pre>qweqwe</pre></div></td></tr><tr><td>cardnumber</td><td><div class=\"dni-plaintext\"><pre>123123</pre></div></td></tr><tr><td>format</td><td><div class=\"dni-plaintext\"><pre>json</pre></div></td></tr><tr><td>notify_url</td><td><div class=\"dni-plaintext\"><pre>werwerw</pre></div></td></tr><tr><td>time</td><td><div class=\"dni-plaintext\"><pre>123131</pre></div></td></tr></tbody></table></div></details><style>\r\n",
       ".dni-code-hint {\r\n",
       "    font-style: italic;\r\n",
       "    overflow: hidden;\r\n",
       "    white-space: nowrap;\r\n",
       "}\r\n",
       ".dni-treeview {\r\n",
       "    white-space: nowrap;\r\n",
       "}\r\n",
       ".dni-treeview td {\r\n",
       "    vertical-align: top;\r\n",
       "    text-align: start;\r\n",
       "}\r\n",
       "details.dni-treeview {\r\n",
       "    padding-left: 1em;\r\n",
       "}\r\n",
       "table td {\r\n",
       "    text-align: start;\r\n",
       "}\r\n",
       "table tr { \r\n",
       "    vertical-align: top; \r\n",
       "    margin: 0em 0px;\r\n",
       "}\r\n",
       "table tr td pre \r\n",
       "{ \r\n",
       "    vertical-align: top !important; \r\n",
       "    margin: 0em 0px !important;\r\n",
       "} \r\n",
       "table th {\r\n",
       "    text-align: start;\r\n",
       "}\r\n",
       "</style>"
      ]
     },
     "metadata": {},
     "output_type": "display_data"
    }
   ],
   "source": [
    "c"
   ]
  },
  {
   "cell_type": "code",
   "execution_count": 21,
   "metadata": {
    "dotnet_interactive": {
     "language": "csharp"
    },
    "polyglot_notebook": {
     "kernelName": "csharp"
    }
   },
   "outputs": [
    {
     "ename": "Error",
     "evalue": "(1,68): error CS1061: 'char' does not contain a definition for 'PropertyName' and no accessible extension method 'PropertyName' accepting a first argument of type 'char' could be found (are you missing a using directive or an assembly reference?)",
     "output_type": "error",
     "traceback": [
      "(1,68): error CS1061: 'char' does not contain a definition for 'PropertyName' and no accessible extension method 'PropertyName' accepting a first argument of type 'char' could be found (are you missing a using directive or an assembly reference?)"
     ]
    }
   ],
   "source": [
    "JsonConvert.SerializeObject(c, Formatting.Indented).OrderBy(p => p.PropertyName)"
   ]
  },
  {
   "cell_type": "code",
   "execution_count": null,
   "metadata": {
    "dotnet_interactive": {
     "language": "csharp"
    },
    "polyglot_notebook": {
     "kernelName": "csharp"
    }
   },
   "outputs": [],
   "source": []
  }
 ],
 "metadata": {
  "kernelspec": {
   "display_name": ".NET (C#)",
   "language": "C#",
   "name": ".net-csharp"
  },
  "language_info": {
   "name": "polyglot-notebook"
  },
  "polyglot_notebook": {
   "kernelInfo": {
    "defaultKernelName": "csharp",
    "items": [
     {
      "aliases": [],
      "name": "csharp"
     }
    ]
   }
  }
 },
 "nbformat": 4,
 "nbformat_minor": 2
}
