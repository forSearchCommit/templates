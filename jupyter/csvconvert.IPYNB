{
 "cells": [
  {
   "cell_type": "markdown",
   "metadata": {},
   "source": [
    "**Package Installation**\n",
    "+ python -m pip install numpy --user\n",
    "+ python -m pip install numpy --user\n",
    "\n",
    "**Pandas read json**\n",
    "```\n",
    "import pandas as pd\n",
    "df = pd.read_json(r'C:\\Users\\FengWeiLee\\Downloads\\ansheng bank code json.json')\n",
    "```\n",
    "\n",
    "\n",
    "**Print or process the duplicate values in the column as needed**\n",
    "```\n",
    "column_name = 'Code'\n",
    "duplicates_in_column = df[df[column_name].duplicated()]\n",
    "print(f\"Duplicate values in '{column_name}':\")\n",
    "print(duplicates_in_column)\n",
    "```\n",
    "\n",
    "**Some Utilities**\n",
    "```\n",
    "df.count\n",
    "len(df.DBCode.unique())\n",
    "```"
   ]
  },
  {
   "cell_type": "markdown",
   "metadata": {},
   "source": [
    "**CSV TO JSON Conversion - Bank Code Mapping**\n",
    "\n",
    "```\n",
    "import pandas as pd\n",
    "import json\n",
    "\n",
    "xlsx_file = r'C:\\Users\\FengWeiLee\\Downloads\\test.csv'\n",
    "\n",
    "df = pd.read_csv(xlsx_file, encoding='utf-8')\n",
    "\n",
    "#column rename\n",
    "df.rename(columns={'N8': 'DBCode'}, inplace=True)\n",
    "df.rename(columns={'An Sheng': 'Code'}, inplace=True)\n",
    "df.rename(columns={'银行名称': 'Name'}, inplace=True)\n",
    "\n",
    "#column reorder\n",
    "df = df[['Code', 'DBCode','Name']]\n",
    "\n",
    "print(df.head())\n",
    "data_dict = df.to_dict(orient='records')\n",
    "\n",
    "with open(r'C:\\Users\\FengWeiLee\\Downloads\\AnShengBankCodeMapping.json', 'w', encoding='utf-8') as json_file:\n",
    "    json.dump(data_dict, json_file, ensure_ascii=False, indent=4)\n",
    "```\n"
   ]
  },
  {
   "cell_type": "code",
   "execution_count": 12,
   "metadata": {},
   "outputs": [
    {
     "name": "stdout",
     "output_type": "stream",
     "text": [
      "     Code  DBCode   Code1 DBCode1\n",
      "0    SXCB    SXCB    SXCB    SXCB\n",
      "1   TACCB   TACCB   TACCB   TACCB\n",
      "2    TRCB    TRCB    TRCB    TRCB\n",
      "3     XTB     XTB     XTB     XTB\n",
      "4  NXBANK  NXBANK  NXBANK  NXBANK\n"
     ]
    }
   ],
   "source": [
    "import pandas as pd\n",
    "import json\n",
    "\n",
    "xlsx_file = r'C:\\Users\\FengWeiLee\\Downloads\\test.csv'\n",
    "\n",
    "df = pd.read_csv(xlsx_file, encoding='utf-8')\n",
    "\n",
    "#column rename\n",
    "df.rename(columns={'N8': 'DBCode'}, inplace=True)\n",
    "df.rename(columns={'An Sheng': 'Code'}, inplace=True)\n",
    "df.rename(columns={'银行名称': 'Name'}, inplace=True)\n",
    "\n",
    "#column reorder\n",
    "df['Code1'] = df['Code']\n",
    "df['DBCode1'] = df['DBCode']\n",
    "df = df[['Code', 'DBCode', 'Code1', 'DBCode1']]\n",
    "\n",
    "print(df.head())\n",
    "data_dict = df.to_dict(orient='records')\n",
    "\n",
    "with open(r'C:\\Users\\FengWeiLee\\Downloads\\AnShengBankCodeMapping1.json', 'w', encoding='utf-8') as json_file:\n",
    "    json.dump(data_dict, json_file, ensure_ascii=False, indent=4)"
   ]
  },
  {
   "cell_type": "code",
   "execution_count": null,
   "metadata": {},
   "outputs": [],
   "source": [
    "import pandas as pd\n",
    "import json\n",
    "\n",
    "# Replace 'your_file.xlsx' with the path to your Excel file\n",
    "xlsx_file = r'C:\\Users\\FengWeiLee\\Downloads\\test.csv'\n",
    "\n",
    "# Read the Excel file into a pandas DataFrame\n",
    "df = pd.read_csv(xlsx_file, encoding='utf-8')\n",
    "# Convert the DataFrame to a JSON object\n",
    "json_data = df.to_json(orient='records', lines=True)\n",
    "# Convert the DataFrame to a dictionary\n",
    "df.rename(columns={'N8': 'DBCode'}, inplace=True)\n",
    "df.rename(columns={'An Sheng': 'Code'}, inplace=True)\n",
    "df.rename(columns={'银行名称': 'Name'}, inplace=True)\n",
    "\n",
    "# print(df.head())\n",
    "# df = df.iloc[:, [1, 0]]\n",
    "# print(df.head())\n",
    "\n",
    "\n",
    "df = df[['Code', 'DBCode','Name']]\n",
    "# Save the data as a JSON file\n",
    "#values = df.values.tolist()\n",
    "# Create an empty list to store JSON objects\n",
    "#json_strings = []\n",
    "print(df.head())\n",
    "data_dict = df.to_dict(orient='records')\n",
    "# Iterate through the DataFrame and create JSON objects without column names\n",
    "#for index, row in df.iterrows():\n",
    " #   values = tuple(row)  # Convert the row to a tuple\n",
    "  #  json_string = json.dumps(values, ensure_ascii=False)\n",
    "   # json_strings.append(json_string)\n",
    "\n",
    "with open(r'C:\\Users\\FengWeiLee\\Downloads\\test.json', 'w', encoding='utf-8') as json_file:\n",
    "    json.dump(data_dict, json_file, ensure_ascii=False, indent=4)\n"
   ]
  }
 ],
 "metadata": {
  "kernelspec": {
   "display_name": "Python 3",
   "language": "python",
   "name": "python3"
  },
  "language_info": {
   "codemirror_mode": {
    "name": "ipython",
    "version": 3
   },
   "file_extension": ".py",
   "mimetype": "text/x-python",
   "name": "python",
   "nbconvert_exporter": "python",
   "pygments_lexer": "ipython3",
   "version": "3.11.5"
  },
  "orig_nbformat": 4
 },
 "nbformat": 4,
 "nbformat_minor": 2
}
